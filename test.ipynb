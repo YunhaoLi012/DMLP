{
 "cells": [
  {
   "cell_type": "code",
   "execution_count": 1,
   "metadata": {},
   "outputs": [],
   "source": [
    "from datasets import load_dataset,concatenate_datasets, Dataset,DatasetDict\n",
    "from transformers import AutoTokenizer\n",
    "from torch.utils.data import DataLoader\n",
    "from torch.nn.utils.rnn import pad_sequence\n",
    "import torch"
   ]
  },
  {
   "cell_type": "code",
   "execution_count": 2,
   "metadata": {},
   "outputs": [],
   "source": [
    "a =load_dataset(\"guangyil/yelp_short_v2\")"
   ]
  },
  {
   "cell_type": "code",
   "execution_count": 3,
   "metadata": {},
   "outputs": [],
   "source": [
    "tokenizer_encoder = AutoTokenizer.from_pretrained(\"prajjwal1/bert-small\")\n",
    "tokenizer_decoder = AutoTokenizer.from_pretrained(\"gpt2-xl\")\n"
   ]
  },
  {
   "cell_type": "code",
   "execution_count": 4,
   "metadata": {},
   "outputs": [],
   "source": [
    "special_tokens_dict = {'pad_token': '<PAD>', 'bos_token': '<BOS>', 'eos_token': '<EOS>', }\n",
    "num_added_toks = tokenizer_decoder.add_special_tokens(special_tokens_dict)"
   ]
  },
  {
   "cell_type": "code",
   "execution_count": 5,
   "metadata": {},
   "outputs": [],
   "source": [
    "gpt2_pad_token = tokenizer_decoder.convert_tokens_to_ids([tokenizer_decoder.pad_token])[0]\n",
    "gpt2_eos_token = tokenizer_decoder.convert_tokens_to_ids([tokenizer_decoder.eos_token])[0]\n",
    "gpt2_bos_token = tokenizer_decoder.convert_tokens_to_ids([tokenizer_decoder.bos_token])[0]\n"
   ]
  },
  {
   "cell_type": "code",
   "execution_count": 6,
   "metadata": {},
   "outputs": [
    {
     "data": {
      "text/plain": [
       "(50258, 50259, 50257)"
      ]
     },
     "execution_count": 6,
     "metadata": {},
     "output_type": "execute_result"
    }
   ],
   "source": [
    "gpt2_bos_token, gpt2_eos_token, gpt2_pad_token"
   ]
  },
  {
   "cell_type": "code",
   "execution_count": 7,
   "metadata": {},
   "outputs": [],
   "source": [
    "with open('/home/guangyi/LatentOps/data/datasets/yelp_data/train.shuf.merge', encoding='utf-8') as f:\n",
    "    train = f.readlines()[:20000]\n",
    "dataset = Dataset.from_dict({\"text\":train})"
   ]
  },
  {
   "cell_type": "code",
   "execution_count": 8,
   "metadata": {},
   "outputs": [
    {
     "data": {
      "text/plain": [
       "Dataset({\n",
       "    features: ['text'],\n",
       "    num_rows: 20000\n",
       "})"
      ]
     },
     "execution_count": 8,
     "metadata": {},
     "output_type": "execute_result"
    }
   ],
   "source": [
    "dataset"
   ]
  },
  {
   "cell_type": "code",
   "execution_count": 9,
   "metadata": {},
   "outputs": [],
   "source": [
    "def group_texts(examples):\n",
    "    tokenized_0 = tokenizer_encoder(\n",
    "            examples[\"text\"].replace(\" ''\",'').replace(\"`` \",''), return_special_tokens_mask=True, truncation=True, max_length=512\n",
    "            )\n",
    "    tokenized_1 = tokenizer_decoder(\n",
    "            ' '+examples[\"text\"].replace(\" ''\",'').replace(\"`` \",''), return_special_tokens_mask=True, truncation=True, max_length=tokenizer_decoder.model_max_length\n",
    "            )\n",
    "    return {'bert_token':tokenized_0['input_ids'],'gpt2_token':[tokenizer_decoder.convert_tokens_to_ids([tokenizer_decoder.bos_token])[0]]+tokenized_1['input_ids']+[tokenizer_decoder.convert_tokens_to_ids([tokenizer_decoder.eos_token])[0]]}\n",
    "# bookcorpus = Dataset.from_dict(bookcorpus[:100])\n",
    "# preprocess dataset"
   ]
  },
  {
   "cell_type": "code",
   "execution_count": 10,
   "metadata": {},
   "outputs": [
    {
     "data": {
      "text/plain": [
       "'excellent staff , comfortable , quiet rooms at a reasonable price .\\n'"
      ]
     },
     "execution_count": 10,
     "metadata": {},
     "output_type": "execute_result"
    }
   ],
   "source": [
    "dataset[0]['text'].replace(\" ''\",'').replace(\"`` \",'')"
   ]
  },
  {
   "cell_type": "code",
   "execution_count": 11,
   "metadata": {},
   "outputs": [
    {
     "data": {
      "text/plain": [
       "'excellent staff , comfortable , quiet rooms at a reasonable price .\\n'"
      ]
     },
     "execution_count": 11,
     "metadata": {},
     "output_type": "execute_result"
    }
   ],
   "source": [
    "dataset[0]['text']"
   ]
  },
  {
   "cell_type": "code",
   "execution_count": 12,
   "metadata": {},
   "outputs": [
    {
     "data": {
      "text/plain": [
       "{'input_ids': [101, 6581, 3095, 1010, 6625, 1010, 4251, 4734, 2012, 1037, 9608, 3976, 1012, 102], 'token_type_ids': [0, 0, 0, 0, 0, 0, 0, 0, 0, 0, 0, 0, 0, 0], 'attention_mask': [1, 1, 1, 1, 1, 1, 1, 1, 1, 1, 1, 1, 1, 1], 'special_tokens_mask': [1, 0, 0, 0, 0, 0, 0, 0, 0, 0, 0, 0, 0, 1]}"
      ]
     },
     "execution_count": 12,
     "metadata": {},
     "output_type": "execute_result"
    }
   ],
   "source": [
    "tokenizer_encoder(\n",
    "            dataset[0][\"text\"].replace(\" ''\",'').replace(\"`` \",''), return_special_tokens_mask=True, truncation=True, max_length=512\n",
    "            )"
   ]
  },
  {
   "cell_type": "code",
   "execution_count": 13,
   "metadata": {},
   "outputs": [
    {
     "data": {
      "text/plain": [
       "{'input_ids': [6275, 3085, 837, 6792, 837, 5897, 9519, 379, 257, 6397, 2756, 764, 198], 'attention_mask': [1, 1, 1, 1, 1, 1, 1, 1, 1, 1, 1, 1, 1], 'special_tokens_mask': [0, 0, 0, 0, 0, 0, 0, 0, 0, 0, 0, 0, 0]}"
      ]
     },
     "execution_count": 13,
     "metadata": {},
     "output_type": "execute_result"
    }
   ],
   "source": [
    "tokenizer_decoder(\n",
    "            ' '+dataset[0][\"text\"].replace(\" ''\",'').replace(\"`` \",''), return_special_tokens_mask=True, truncation=True, max_length=tokenizer_decoder.model_max_length\n",
    "            )"
   ]
  },
  {
   "cell_type": "code",
   "execution_count": 14,
   "metadata": {},
   "outputs": [
    {
     "data": {
      "text/plain": [
       "50258"
      ]
     },
     "execution_count": 14,
     "metadata": {},
     "output_type": "execute_result"
    }
   ],
   "source": [
    "tokenizer_decoder.convert_tokens_to_ids([tokenizer_decoder.bos_token])[0]"
   ]
  },
  {
   "cell_type": "code",
   "execution_count": 15,
   "metadata": {},
   "outputs": [
    {
     "data": {
      "text/plain": [
       "'<BOS>'"
      ]
     },
     "execution_count": 15,
     "metadata": {},
     "output_type": "execute_result"
    }
   ],
   "source": [
    "tokenizer_decoder.bos_token"
   ]
  },
  {
   "cell_type": "code",
   "execution_count": 16,
   "metadata": {},
   "outputs": [],
   "source": [
    "tokenizer_encoder.bos_token"
   ]
  },
  {
   "cell_type": "code",
   "execution_count": 17,
   "metadata": {},
   "outputs": [
    {
     "data": {
      "application/vnd.jupyter.widget-view+json": {
       "model_id": "49aa6830b6e045db9a986ab43b061176",
       "version_major": 2,
       "version_minor": 0
      },
      "text/plain": [
       "Map (num_proc=10):   0%|          | 0/20000 [00:00<?, ? examples/s]"
      ]
     },
     "metadata": {},
     "output_type": "display_data"
    }
   ],
   "source": [
    "train_eval_dataset =dataset.map(group_texts, batched=False, remove_columns=['text'],num_proc=10)"
   ]
  },
  {
   "cell_type": "code",
   "execution_count": 18,
   "metadata": {},
   "outputs": [
    {
     "data": {
      "text/plain": [
       "0"
      ]
     },
     "execution_count": 18,
     "metadata": {},
     "output_type": "execute_result"
    }
   ],
   "source": [
    "bert_pad_token = tokenizer_encoder.pad_token_id\n",
    "bert_pad_token"
   ]
  },
  {
   "cell_type": "code",
   "execution_count": 19,
   "metadata": {},
   "outputs": [],
   "source": [
    "def collate(examples):\n",
    "    # Convert to Tensors and build dataset\n",
    "\n",
    "    input_ids_bert = pad_sequence([torch.tensor(f['bert_token'], dtype=torch.long) for f in examples],\n",
    "                                  batch_first=True, padding_value=bert_pad_token)\n",
    "    input_ids_gpt = pad_sequence([torch.tensor(f['gpt2_token'], dtype=torch.long) for f in examples],\n",
    "                                 batch_first=True, padding_value=gpt2_pad_token)\n",
    "    try:\n",
    "        token_lengths = torch.tensor([[len(f['bert_token']), len(f['gpt2_token'])] for f in examples],\n",
    "                                     dtype=torch.long)\n",
    "    except:\n",
    "        token_lengths = torch.zeros((len(examples), 1091))\n",
    "        for i in range(len(examples)):\n",
    "            token_lengths[i, len(examples[i]['gpt2_token'])] = 1\n",
    "    return (input_ids_bert, input_ids_gpt, token_lengths)"
   ]
  },
  {
   "cell_type": "code",
   "execution_count": 20,
   "metadata": {},
   "outputs": [],
   "source": [
    "train_eval_dataloader = DataLoader(train_eval_dataset, num_workers=0,  pin_memory=True, collate_fn=collate,batch_size=64)\n"
   ]
  },
  {
   "cell_type": "code",
   "execution_count": null,
   "metadata": {},
   "outputs": [],
   "source": [
    "def calc_rec_lgy(model_vae, encoder_tokenizer, decoder_tokenizer, args, eval_dataloader,ns=1):\n",
    "    from modules import sample_sequence_conditional\n",
    "    # eval_dataloader = build_dataload_and_cache_examples(args, [encoder_tokenizer, decoder_tokenizer], evaluate=True)\n",
    "    count = 0\n",
    "    result = defaultdict(str)\n",
    "    ref = []\n",
    "    cand = []\n",
    "    for batch in tqdm(eval_dataloader, desc=\"Evaluating recontruction\", disable=args.disable_bar):\n",
    "        x0, x1, x_lengths = batch\n",
    "        max_len_values, _ = x_lengths.max(0)\n",
    "        x0 = x0[:, :max_len_values[0]]\n",
    "        x1 = x1[:, :max_len_values[1]]\n",
    "        x0 = x0.to(args.device)\n",
    "        x1 = x1.to(args.device)\n",
    "        x_lengths = x_lengths.to(args.device)\n",
    "        context_tokens = decoder_tokenizer.encode(decoder_tokenizer.bos_token)\n",
    "        with torch.no_grad():\n",
    "            # text_x0 = encoder_tokenizer.decode(x0[0,:x_lengths[0,0]].tolist(), clean_up_tokenization_spaces=True)[0]\n",
    "            # result[\"INPUT TEXT \" + str(count)].append(text_x0)\n",
    "            attention_mask = (x0 != encoder_tokenizer.pad_token_id).float()\n",
    "\n",
    "            pooled_hidden_fea = model_vae.encoder(x0, attention_mask)[1]\n",
    "\n",
    "            # Connect hidden feature to the latent space\n",
    "            # latent_z, loss_kl = model_vae.connect(pooled_hidden_fea)\n",
    "            mean, logvar = model_vae.encoder.linear(pooled_hidden_fea).chunk(2, -1)\n",
    "            # latent_z = model_vae.reparameterize(mean, logvar, nsamples=1).squeeze(1)\n",
    "            latent_z = mean.squeeze(1)\n",
    "\n",
    "            past = latent_z\n",
    "            out = sample_sequence_conditional(\n",
    "                model=model_vae.decoder,\n",
    "                context=context_tokens,\n",
    "                past=past,\n",
    "                length=x_lengths[0, 1],  # Chunyuan: Fix length; or use <EOS> to complete a sentence\n",
    "                num_samples=latent_z.size(0),\n",
    "                device=args.device,\n",
    "                decoder_tokenizer=decoder_tokenizer,\n",
    "                eos_id=model_vae.eos_token_id\n",
    "            )\n",
    "\n",
    "        for i in range(latent_z.size(0)):\n",
    "            text_x0_ = decoder_tokenizer.decode(x1[i, :].tolist(), clean_up_tokenization_spaces=False).split(decoder_tokenizer.eos_token)[\n",
    "                0].replace(decoder_tokenizer.bos_token, '').strip()\n",
    "            text_x0_ = text_x0_.split()\n",
    "            text_x1 = decoder_tokenizer.decode(out[i, :].tolist(), clean_up_tokenization_spaces=False).split(decoder_tokenizer.eos_token)[\n",
    "                0].replace(decoder_tokenizer.bos_token, '').strip()\n",
    "            text_x1 = text_x1.split()\n",
    "\n",
    "            count += 1\n",
    "            ref.append([text_x0_])\n",
    "            cand.append(text_x1)\n",
    "\n",
    "        if count > 1000:\n",
    "            break\n",
    "    bleu = corpus_bleu(ref, cand) * 100\n",
    "    logger.info(\"  BLEU = %s\", str(round(bleu, 2)))\n",
    "    output_eval_file = os.path.join(args.output_dir, \"eval_results_bleu.txt\")\n",
    "    if not os.path.exists(args.output_dir):\n",
    "        os.makedirs(args.output_dir)\n",
    "    with open(output_eval_file, \"w\") as writer:\n",
    "        writer.write(\"%s = %s\\n\" % ('bleu', str(bleu)))\n",
    "    return {'bleu': bleu}"
   ]
  },
  {
   "cell_type": "code",
   "execution_count": null,
   "metadata": {},
   "outputs": [],
   "source": []
  }
 ],
 "metadata": {
  "kernelspec": {
   "display_name": "Python 3",
   "language": "python",
   "name": "python3"
  },
  "language_info": {
   "codemirror_mode": {
    "name": "ipython",
    "version": 3
   },
   "file_extension": ".py",
   "mimetype": "text/x-python",
   "name": "python",
   "nbconvert_exporter": "python",
   "pygments_lexer": "ipython3",
   "version": "3.8.10"
  }
 },
 "nbformat": 4,
 "nbformat_minor": 2
}
