{
 "cells": [
  {
   "cell_type": "code",
   "execution_count": 1,
   "metadata": {},
   "outputs": [],
   "source": [
    "from datasets import load_dataset,concatenate_datasets, Dataset,DatasetDict\n",
    "from transformers import AutoTokenizer\n",
    "from torch.utils.data import DataLoader\n",
    "from torch.nn.utils.rnn import pad_sequence\n",
    "import torch"
   ]
  },
  {
   "cell_type": "code",
   "execution_count": 2,
   "metadata": {},
   "outputs": [],
   "source": [
    "a =load_dataset(\"guangyil/yelp_short_v2\")"
   ]
  },
  {
   "cell_type": "code",
   "execution_count": 3,
   "metadata": {},
   "outputs": [],
   "source": [
    "tokenizer_encoder = AutoTokenizer.from_pretrained(\"prajjwal1/bert-small\")\n",
    "tokenizer_decoder = AutoTokenizer.from_pretrained(\"gpt2-xl\")\n"
   ]
  },
  {
   "cell_type": "code",
   "execution_count": 4,
   "metadata": {},
   "outputs": [],
   "source": [
    "special_tokens_dict = {'pad_token': '<PAD>', 'bos_token': '<BOS>', 'eos_token': '<EOS>', }\n",
    "num_added_toks = tokenizer_decoder.add_special_tokens(special_tokens_dict)"
   ]
  },
  {
   "cell_type": "code",
   "execution_count": 5,
   "metadata": {},
   "outputs": [],
   "source": [
    "gpt2_pad_token = tokenizer_decoder.convert_tokens_to_ids([tokenizer_decoder.pad_token])[0]\n",
    "gpt2_eos_token = tokenizer_decoder.convert_tokens_to_ids([tokenizer_decoder.eos_token])[0]\n",
    "gpt2_bos_token = tokenizer_decoder.convert_tokens_to_ids([tokenizer_decoder.bos_token])[0]\n"
   ]
  },
  {
   "cell_type": "code",
   "execution_count": 6,
   "metadata": {},
   "outputs": [
    {
     "data": {
      "text/plain": [
       "(50258, 50259, 50257)"
      ]
     },
     "execution_count": 6,
     "metadata": {},
     "output_type": "execute_result"
    }
   ],
   "source": [
    "gpt2_bos_token, gpt2_eos_token, gpt2_pad_token"
   ]
  },
  {
   "cell_type": "code",
   "execution_count": 7,
   "metadata": {},
   "outputs": [],
   "source": [
    "with open('/home/guangyi/LatentOps/data/datasets/yelp_data/train.shuf.merge', encoding='utf-8') as f:\n",
    "    train = f.readlines()[:20000]\n",
    "dataset = Dataset.from_dict({\"text\":train})"
   ]
  },
  {
   "cell_type": "code",
   "execution_count": 8,
   "metadata": {},
   "outputs": [
    {
     "data": {
      "text/plain": [
       "Dataset({\n",
       "    features: ['text'],\n",
       "    num_rows: 20000\n",
       "})"
      ]
     },
     "execution_count": 8,
     "metadata": {},
     "output_type": "execute_result"
    }
   ],
   "source": [
    "dataset"
   ]
  },
  {
   "cell_type": "code",
   "execution_count": 9,
   "metadata": {},
   "outputs": [],
   "source": [
    "def group_texts(examples):\n",
    "    tokenized_0 = tokenizer_encoder(\n",
    "            examples[\"text\"].replace(\" ''\",'').replace(\"`` \",''), return_special_tokens_mask=True, truncation=True, max_length=512\n",
    "            )\n",
    "    tokenized_1 = tokenizer_decoder(\n",
    "            ' '+examples[\"text\"].replace(\" ''\",'').replace(\"`` \",''), return_special_tokens_mask=True, truncation=True, max_length=tokenizer_decoder.model_max_length\n",
    "            )\n",
    "    return {'bert_token':tokenized_0['input_ids'],'gpt2_token':[tokenizer_decoder.convert_tokens_to_ids([tokenizer_decoder.bos_token])[0]]+tokenized_1['input_ids']+[tokenizer_decoder.convert_tokens_to_ids([tokenizer_decoder.eos_token])[0]]}\n",
    "# bookcorpus = Dataset.from_dict(bookcorpus[:100])\n",
    "# preprocess dataset"
   ]
  },
  {
   "cell_type": "code",
   "execution_count": 10,
   "metadata": {},
   "outputs": [
    {
     "data": {
      "text/plain": [
       "'excellent staff , comfortable , quiet rooms at a reasonable price .\\n'"
      ]
     },
     "execution_count": 10,
     "metadata": {},
     "output_type": "execute_result"
    }
   ],
   "source": [
    "dataset[0]['text'].replace(\" ''\",'').replace(\"`` \",'')"
   ]
  },
  {
   "cell_type": "code",
   "execution_count": 11,
   "metadata": {},
   "outputs": [
    {
     "data": {
      "text/plain": [
       "'excellent staff , comfortable , quiet rooms at a reasonable price .\\n'"
      ]
     },
     "execution_count": 11,
     "metadata": {},
     "output_type": "execute_result"
    }
   ],
   "source": [
    "dataset[0]['text']"
   ]
  },
  {
   "cell_type": "code",
   "execution_count": 12,
   "metadata": {},
   "outputs": [
    {
     "data": {
      "text/plain": [
       "{'input_ids': [101, 6581, 3095, 1010, 6625, 1010, 4251, 4734, 2012, 1037, 9608, 3976, 1012, 102], 'token_type_ids': [0, 0, 0, 0, 0, 0, 0, 0, 0, 0, 0, 0, 0, 0], 'attention_mask': [1, 1, 1, 1, 1, 1, 1, 1, 1, 1, 1, 1, 1, 1], 'special_tokens_mask': [1, 0, 0, 0, 0, 0, 0, 0, 0, 0, 0, 0, 0, 1]}"
      ]
     },
     "execution_count": 12,
     "metadata": {},
     "output_type": "execute_result"
    }
   ],
   "source": [
    "tokenizer_encoder(\n",
    "            dataset[0][\"text\"].replace(\" ''\",'').replace(\"`` \",''), return_special_tokens_mask=True, truncation=True, max_length=512\n",
    "            )"
   ]
  },
  {
   "cell_type": "code",
   "execution_count": 13,
   "metadata": {},
   "outputs": [
    {
     "data": {
      "text/plain": [
       "{'input_ids': [6275, 3085, 837, 6792, 837, 5897, 9519, 379, 257, 6397, 2756, 764, 198], 'attention_mask': [1, 1, 1, 1, 1, 1, 1, 1, 1, 1, 1, 1, 1], 'special_tokens_mask': [0, 0, 0, 0, 0, 0, 0, 0, 0, 0, 0, 0, 0]}"
      ]
     },
     "execution_count": 13,
     "metadata": {},
     "output_type": "execute_result"
    }
   ],
   "source": [
    "tokenizer_decoder(\n",
    "            ' '+dataset[0][\"text\"].replace(\" ''\",'').replace(\"`` \",''), return_special_tokens_mask=True, truncation=True, max_length=tokenizer_decoder.model_max_length\n",
    "            )"
   ]
  },
  {
   "cell_type": "code",
   "execution_count": 14,
   "metadata": {},
   "outputs": [
    {
     "data": {
      "text/plain": [
       "50258"
      ]
     },
     "execution_count": 14,
     "metadata": {},
     "output_type": "execute_result"
    }
   ],
   "source": [
    "tokenizer_decoder.convert_tokens_to_ids([tokenizer_decoder.bos_token])[0]"
   ]
  },
  {
   "cell_type": "code",
   "execution_count": 15,
   "metadata": {},
   "outputs": [
    {
     "data": {
      "text/plain": [
       "'<BOS>'"
      ]
     },
     "execution_count": 15,
     "metadata": {},
     "output_type": "execute_result"
    }
   ],
   "source": [
    "tokenizer_decoder.bos_token"
   ]
  },
  {
   "cell_type": "code",
   "execution_count": 16,
   "metadata": {},
   "outputs": [],
   "source": [
    "tokenizer_encoder.bos_token"
   ]
  },
  {
   "cell_type": "code",
   "execution_count": 17,
   "metadata": {},
   "outputs": [
    {
     "data": {
      "application/vnd.jupyter.widget-view+json": {
       "model_id": "49aa6830b6e045db9a986ab43b061176",
       "version_major": 2,
       "version_minor": 0
      },
      "text/plain": [
       "Map (num_proc=10):   0%|          | 0/20000 [00:00<?, ? examples/s]"
      ]
     },
     "metadata": {},
     "output_type": "display_data"
    }
   ],
   "source": [
    "train_eval_dataset =dataset.map(group_texts, batched=False, remove_columns=['text'],num_proc=10)"
   ]
  },
  {
   "cell_type": "code",
   "execution_count": 18,
   "metadata": {},
   "outputs": [
    {
     "data": {
      "text/plain": [
       "0"
      ]
     },
     "execution_count": 18,
     "metadata": {},
     "output_type": "execute_result"
    }
   ],
   "source": [
    "bert_pad_token = tokenizer_encoder.pad_token_id\n",
    "bert_pad_token"
   ]
  },
  {
   "cell_type": "code",
   "execution_count": 19,
   "metadata": {},
   "outputs": [],
   "source": [
    "def collate(examples):\n",
    "    # Convert to Tensors and build dataset\n",
    "\n",
    "    input_ids_bert = pad_sequence([torch.tensor(f['bert_token'], dtype=torch.long) for f in examples],\n",
    "                                  batch_first=True, padding_value=bert_pad_token)\n",
    "    input_ids_gpt = pad_sequence([torch.tensor(f['gpt2_token'], dtype=torch.long) for f in examples],\n",
    "                                 batch_first=True, padding_value=gpt2_pad_token)\n",
    "    try:\n",
    "        token_lengths = torch.tensor([[len(f['bert_token']), len(f['gpt2_token'])] for f in examples],\n",
    "                                     dtype=torch.long)\n",
    "    except:\n",
    "        token_lengths = torch.zeros((len(examples), 1091))\n",
    "        for i in range(len(examples)):\n",
    "            token_lengths[i, len(examples[i]['gpt2_token'])] = 1\n",
    "    return (input_ids_bert, input_ids_gpt, token_lengths)"
   ]
  },
  {
   "cell_type": "code",
   "execution_count": 20,
   "metadata": {},
   "outputs": [],
   "source": [
    "train_eval_dataloader = DataLoader(train_eval_dataset, num_workers=0,  pin_memory=True, collate_fn=collate,batch_size=64)\n"
   ]
  },
  {
   "cell_type": "code",
   "execution_count": 32,
   "metadata": {},
   "outputs": [],
   "source": [
    "from dmlp.models import VAE"
   ]
  },
  {
   "cell_type": "code",
   "execution_count": 31,
   "metadata": {},
   "outputs": [
    {
     "ename": "NameError",
     "evalue": "name 'GPT2ForLatentConnectorNew' is not defined",
     "output_type": "error",
     "traceback": [
      "\u001b[0;31m---------------------------------------------------------------------------\u001b[0m",
      "\u001b[0;31mNameError\u001b[0m                                 Traceback (most recent call last)",
      "Cell \u001b[0;32mIn[31], line 2\u001b[0m\n\u001b[1;32m      1\u001b[0m MODEL_CLASSES \u001b[38;5;241m=\u001b[39m {\n\u001b[0;32m----> 2\u001b[0m     \u001b[38;5;124m'\u001b[39m\u001b[38;5;124mgpt2\u001b[39m\u001b[38;5;124m'\u001b[39m: \u001b[43mGPT2ForLatentConnectorNew\u001b[49m, \u001b[38;5;66;03m# updated by Jieqi, for 84 only\u001b[39;00m\n\u001b[1;32m      3\u001b[0m     \u001b[38;5;66;03m# 'openai-gpt': (None, OpenAIGPTLMHeadModel, OpenAIGPTTokenizer),\u001b[39;00m\n\u001b[1;32m      4\u001b[0m     \u001b[38;5;124m'\u001b[39m\u001b[38;5;124mbertu\u001b[39m\u001b[38;5;124m'\u001b[39m: BertForLatentConnectorAVG, \u001b[38;5;66;03m# updated by Jiei, for 84 only\u001b[39;00m\n\u001b[1;32m      5\u001b[0m     \u001b[38;5;124m'\u001b[39m\u001b[38;5;124mbert\u001b[39m\u001b[38;5;124m'\u001b[39m: BertForLatentConnector,\n\u001b[1;32m      6\u001b[0m     \u001b[38;5;124m'\u001b[39m\u001b[38;5;124mroberta\u001b[39m\u001b[38;5;124m'\u001b[39m: RobertaForLatentConnector,\n\u001b[1;32m      7\u001b[0m     \u001b[38;5;124m'\u001b[39m\u001b[38;5;124mdeberta\u001b[39m\u001b[38;5;124m'\u001b[39m: DebertaForLatentConnector,\n\u001b[1;32m      8\u001b[0m     \u001b[38;5;124m'\u001b[39m\u001b[38;5;124mt5\u001b[39m\u001b[38;5;124m'\u001b[39m: T5EncoderForLatentConnector,\n\u001b[1;32m      9\u001b[0m     \u001b[38;5;124m'\u001b[39m\u001b[38;5;124malbert\u001b[39m\u001b[38;5;124m'\u001b[39m:AlbertForLatentConnector,\n\u001b[1;32m     10\u001b[0m }\n",
      "\u001b[0;31mNameError\u001b[0m: name 'GPT2ForLatentConnectorNew' is not defined"
     ]
    }
   ],
   "source": [
    "MODEL_CLASSES = {\n",
    "    'gpt2': GPT2ForLatentConnectorNew, # updated by Jieqi, for 84 only\n",
    "    # 'openai-gpt': (None, OpenAIGPTLMHeadModel, OpenAIGPTTokenizer),\n",
    "    'bertu': BertForLatentConnectorAVG, # updated by Jiei, for 84 only\n",
    "    'bert': BertForLatentConnector,\n",
    "    'roberta': RobertaForLatentConnector,\n",
    "    'deberta': DebertaForLatentConnector,\n",
    "    't5': T5EncoderForLatentConnector,\n",
    "    'albert':AlbertForLatentConnector,\n",
    "}"
   ]
  },
  {
   "cell_type": "code",
   "execution_count": 30,
   "metadata": {},
   "outputs": [
    {
     "ename": "SyntaxError",
     "evalue": "invalid syntax (3748781273.py, line 1)",
     "output_type": "error",
     "traceback": [
      "\u001b[0;36m  Cell \u001b[0;32mIn[30], line 1\u001b[0;36m\u001b[0m\n\u001b[0;31m    encoder =\u001b[0m\n\u001b[0m              ^\u001b[0m\n\u001b[0;31mSyntaxError\u001b[0m\u001b[0;31m:\u001b[0m invalid syntax\n"
     ]
    }
   ],
   "source": [
    "encoder = \n",
    "decoder = \n",
    "latent_size = \n",
    "output_dir = \"test\"\n",
    "model_vae = VAE()"
   ]
  },
  {
   "cell_type": "code",
   "execution_count": null,
   "metadata": {},
   "outputs": [],
   "source": []
  }
 ],
 "metadata": {
  "kernelspec": {
   "display_name": "Python 3",
   "language": "python",
   "name": "python3"
  },
  "language_info": {
   "codemirror_mode": {
    "name": "ipython",
    "version": 3
   },
   "file_extension": ".py",
   "mimetype": "text/x-python",
   "name": "python",
   "nbconvert_exporter": "python",
   "pygments_lexer": "ipython3",
   "version": "3.8.10"
  }
 },
 "nbformat": 4,
 "nbformat_minor": 2
}
