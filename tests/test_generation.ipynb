{
 "cells": [
  {
   "cell_type": "code",
   "execution_count": 1,
   "metadata": {},
   "outputs": [
    {
     "name": "stderr",
     "output_type": "stream",
     "text": [
      "/data/jieqi/.venv/lib/python3.8/site-packages/tqdm/auto.py:21: TqdmWarning: IProgress not found. Please update jupyter and ipywidgets. See https://ipywidgets.readthedocs.io/en/stable/user_install.html\n",
      "  from .autonotebook import tqdm as notebook_tqdm\n"
     ]
    }
   ],
   "source": [
    "from datasets import load_dataset,concatenate_datasets, Dataset,DatasetDict, load_from_disk\n",
    "from torch.utils.data import DataLoader\n",
    "from transformers import AutoTokenizer\n",
    "from torch.utils.data import DataLoader\n",
    "from torch.nn.utils.rnn import pad_sequence\n",
    "import torch\n",
    "\n",
    "from DMLP.models.my_transformers import MODEL_CLASS\n",
    "from DMLP.models.models import VAE, DDPM, MLPSkipNet, TransformerNet,VAE_DDPM\n",
    "from DMLP.train.reconstruction import *\n",
    "from DMLP.utils.ddpm_schedule import ddpm_schedule\n",
    "from DMLP.utils.random_init import weights_init_random\n",
    "from DMLP.train.train_function import train_vae_ddpm\n",
    "import numpy as np\n"
   ]
  },
  {
   "cell_type": "code",
   "execution_count": 8,
   "metadata": {},
   "outputs": [],
   "source": [
    "class MyCollator(object):\n",
    "    def __init__(self, encoder_token, decoder_token, mask_token):\n",
    "        self.encoder_token = encoder_token\n",
    "        self.decoder_token = decoder_token\n",
    "        self.mask_token = mask_token\n",
    "    def __call__(self, batch):\n",
    "\n",
    "        input_ids_bert = pad_sequence([torch.tensor(f['bert_token'], dtype=torch.long) for f in batch],\n",
    "                                  batch_first=True, padding_value=self.encoder_token)\n",
    "        input_ids_gpt = pad_sequence([torch.tensor(f['gpt2_token'], dtype=torch.long) for f in batch],\n",
    "                                    batch_first=True, padding_value=self.decoder_token)\n",
    "        try:\n",
    "            token_lengths = torch.tensor([[len(f['bert_token']), len(f['gpt2_token'])] for f in batch],\n",
    "                                        dtype=torch.long)\n",
    "        except:\n",
    "            token_lengths = torch.zeros((len(batch), 1091))\n",
    "            for i in range(len(batch)):\n",
    "                token_lengths[i, len(batch[i]['gpt2_token'])] = 1\n",
    "        return (input_ids_bert, input_ids_gpt, token_lengths)\n",
    "    \n",
    "    def mask(self, x):\n",
    "        max_length = len(x)\n",
    "        idx = np.random.choice(range(1, max_length-1))\n",
    "        x[idx] = self.mask_token\n",
    "        return x"
   ]
  },
  {
   "cell_type": "code",
   "execution_count": 9,
   "metadata": {},
   "outputs": [
    {
     "name": "stdout",
     "output_type": "stream",
     "text": [
      "download data\n"
     ]
    }
   ],
   "source": [
    "batch_size = 2\n",
    "tokenizer_encoder = AutoTokenizer.from_pretrained(\"prajjwal1/bert-small\")\n",
    "tokenizer_decoder = AutoTokenizer.from_pretrained(\"gpt2-xl\")\n",
    "special_tokens_dict = {'pad_token': '<PAD>', 'bos_token': '<BOS>', 'eos_token': '<EOS>'}\n",
    "num_added_toks = tokenizer_decoder.add_special_tokens(special_tokens_dict)\n",
    "\n",
    "\n",
    "\n",
    "bert_pad_token = tokenizer_encoder.pad_token_id\n",
    "gpt2_pad_token = tokenizer_decoder.pad_token_id\n",
    "bert_mask_token = tokenizer_encoder.mask_token_id\n",
    "my_collator = MyCollator(bert_pad_token, gpt2_pad_token, bert_mask_token)\n",
    "#download data\n",
    "print(\"download data\")\n",
    "\n",
    "# train_eval_dataset =load_dataset(\"guangyil/yelp_short_v2\")\n",
    "train_eval_dataset =load_from_disk(\"../Data/qaa\")\n",
    "eval_dataloader =  DataLoader(train_eval_dataset['test'], num_workers=0, collate_fn=my_collator,batch_size=batch_size)\n",
    "train_dataloader = DataLoader(train_eval_dataset['train'], num_workers=0, collate_fn=my_collator, batch_size=batch_size)"
   ]
  },
  {
   "cell_type": "code",
   "execution_count": 10,
   "metadata": {},
   "outputs": [],
   "source": [
    "count = 0\n",
    "for b in eval_dataloader:\n",
    "    a = b\n",
    "    count += 1\n",
    "    if count == 5:\n",
    "        break"
   ]
  },
  {
   "cell_type": "code",
   "execution_count": 11,
   "metadata": {},
   "outputs": [],
   "source": [
    "#load mode\n",
    "latent_size = 128\n",
    "encoder_model_class = MODEL_CLASS['BertForLatentConnectorAVG']\n",
    "decoder_model_class = MODEL_CLASS['GPT2ForLatentConnectorNew']\n",
    "\n",
    "# output_dir = \"home/AD/yul080/out_temp\"\n",
    "output_dir = \"../../out_temp\""
   ]
  },
  {
   "cell_type": "code",
   "execution_count": 12,
   "metadata": {},
   "outputs": [
    {
     "data": {
      "text/plain": [
       "50260"
      ]
     },
     "execution_count": 12,
     "metadata": {},
     "output_type": "execute_result"
    }
   ],
   "source": [
    "len(tokenizer_decoder)"
   ]
  },
  {
   "cell_type": "code",
   "execution_count": 147,
   "metadata": {},
   "outputs": [
    {
     "name": "stderr",
     "output_type": "stream",
     "text": [
      "Some weights of GPT2ForLatentConnectorNew were not initialized from the model checkpoint at gpt2-xl and are newly initialized: ['lm_head.bias', 'h.48.ln_2.weight', 'h.48.mlp.c_fc.bias', 'h.48.attn.c_attn.weight', 'h.48.mlp.c_proj.bias', 'h.48.ln_1.bias', 'linear_emb.weight', 'h.48.ln_1.weight', 'h.48.mlp.c_fc.weight', 'h.48.mlp.c_proj.weight', 'h.48.attn.c_attn.bias', 'h.48.attn.c_proj.bias', 'h.48.attn.c_proj.weight', 'linear.weight', 'h.48.ln_2.bias']\n",
      "You should probably TRAIN this model on a down-stream task to be able to use it for predictions and inference.\n",
      "Some weights of BertForLatentConnectorAVG were not initialized from the model checkpoint at prajjwal1/bert-small and are newly initialized: ['bert.linear.weight']\n",
      "You should probably TRAIN this model on a down-stream task to be able to use it for predictions and inference.\n"
     ]
    },
    {
     "data": {
      "text/plain": [
       "VAE(\n",
       "  (encoder): BertForLatentConnectorAVG(\n",
       "    (embeddings): BertEmbeddings(\n",
       "      (word_embeddings): Embedding(30522, 512, padding_idx=0)\n",
       "      (position_embeddings): Embedding(512, 512)\n",
       "      (token_type_embeddings): Embedding(2, 512)\n",
       "      (LayerNorm): LayerNorm((512,), eps=1e-12, elementwise_affine=True)\n",
       "      (dropout): Dropout(p=0.1, inplace=False)\n",
       "    )\n",
       "    (encoder): BertEncoder(\n",
       "      (layer): ModuleList(\n",
       "        (0-3): 4 x BertLayer(\n",
       "          (attention): BertAttention(\n",
       "            (self): BertSelfAttention(\n",
       "              (query): Linear(in_features=512, out_features=512, bias=True)\n",
       "              (key): Linear(in_features=512, out_features=512, bias=True)\n",
       "              (value): Linear(in_features=512, out_features=512, bias=True)\n",
       "              (dropout): Dropout(p=0.1, inplace=False)\n",
       "            )\n",
       "            (output): BertSelfOutput(\n",
       "              (dense): Linear(in_features=512, out_features=512, bias=True)\n",
       "              (LayerNorm): LayerNorm((512,), eps=1e-12, elementwise_affine=True)\n",
       "              (dropout): Dropout(p=0.1, inplace=False)\n",
       "            )\n",
       "          )\n",
       "          (intermediate): BertIntermediate(\n",
       "            (dense): Linear(in_features=512, out_features=2048, bias=True)\n",
       "            (intermediate_act_fn): GELUActivation()\n",
       "          )\n",
       "          (output): BertOutput(\n",
       "            (dense): Linear(in_features=2048, out_features=512, bias=True)\n",
       "            (LayerNorm): LayerNorm((512,), eps=1e-12, elementwise_affine=True)\n",
       "            (dropout): Dropout(p=0.1, inplace=False)\n",
       "          )\n",
       "        )\n",
       "      )\n",
       "    )\n",
       "    (pooler): BertPooler(\n",
       "      (dense): Linear(in_features=512, out_features=512, bias=True)\n",
       "      (activation): Tanh()\n",
       "    )\n",
       "    (linear): Linear(in_features=512, out_features=256, bias=False)\n",
       "  )\n",
       "  (decoder): GPT2ForLatentConnectorNew(\n",
       "    (transformer): GPT2ModelForVAENew(\n",
       "      (wte): Embedding(50260, 1600)\n",
       "      (wpe): Embedding(1024, 1600)\n",
       "      (drop): Dropout(p=0.1, inplace=False)\n",
       "      (h): ModuleList(\n",
       "        (0-48): 49 x GPT2Block(\n",
       "          (ln_1): LayerNorm((1600,), eps=1e-05, elementwise_affine=True)\n",
       "          (attn): GPT2Attention(\n",
       "            (c_attn): Conv1D()\n",
       "            (c_proj): Conv1D()\n",
       "            (attn_dropout): Dropout(p=0.1, inplace=False)\n",
       "            (resid_dropout): Dropout(p=0.1, inplace=False)\n",
       "          )\n",
       "          (ln_2): LayerNorm((1600,), eps=1e-05, elementwise_affine=True)\n",
       "          (mlp): GPT2MLP(\n",
       "            (c_fc): Conv1D()\n",
       "            (c_proj): Conv1D()\n",
       "            (act): NewGELUActivation()\n",
       "            (dropout): Dropout(p=0.1, inplace=False)\n",
       "          )\n",
       "        )\n",
       "      )\n",
       "      (ln_f): LayerNorm((1600,), eps=1e-05, elementwise_affine=True)\n",
       "      (linear): Linear(in_features=128, out_features=78400, bias=False)\n",
       "      (linear_emb): Linear(in_features=128, out_features=1600, bias=False)\n",
       "    )\n",
       "    (lm_head): Linear(in_features=1600, out_features=50260, bias=True)\n",
       "  )\n",
       ")"
      ]
     },
     "execution_count": 147,
     "metadata": {},
     "output_type": "execute_result"
    }
   ],
   "source": [
    "model_decoder = decoder_model_class.from_pretrained(\"gpt2-xl\", latent_size=latent_size,\n",
    "                                                            latent_as_gpt_emb=True,\n",
    "                                                            latent_as_gpt_memory=True,local_files_only=False)\n",
    "model_decoder.resize_token_embeddings(len(tokenizer_decoder))\n",
    "decoder_n_layer = model_decoder.transformer.config.n_layer\n",
    "model_decoder.transformer.change_order()\n",
    "\n",
    "model_encoder = encoder_model_class.from_pretrained(\"prajjwal1/bert-small\", latent_size=latent_size,\n",
    "                                                        pad_id=tokenizer_encoder.pad_token_id,local_files_only=False)\n",
    "model_vae = VAE(model_encoder, model_decoder, tokenizer_encoder, tokenizer_decoder, latent_size, output_dir)\n",
    "\n",
    "\n",
    "checkpoint = torch.load('/home/AD/yul080/runs_with_ddpm/checkpoint-full-2/training.bin',map_location=torch.device('cpu'))\n",
    "model_vae.apply(weights_init_random)\n",
    "model_vae.load_state_dict(checkpoint['model_state_dict'], strict=False) \n",
    "model_vae.to('cuda')   "
   ]
  },
  {
   "cell_type": "code",
   "execution_count": 200,
   "metadata": {},
   "outputs": [],
   "source": [
    "count =0\n",
    "for i in eval_dataloader:\n",
    "    x0,x1,x_lengths = i\n",
    "    count+=1\n",
    "    if count==100:\n",
    "        #4,54 is ok\n",
    "        break\n",
    "max_len_values, _ = x_lengths.max(0)\n",
    "x0 = x0[:, :max_len_values[0]]\n",
    "x1 = x1[:, :max_len_values[1]]\n",
    "x0 = x0.to(\"cuda\")\n",
    "x1 = x1.to(\"cuda\")\n",
    "x_lengths = x_lengths.to(\"cuda\")\n",
    "context_tokens = tokenizer_decoder.encode(tokenizer_decoder.bos_token)\n",
    "attention_mask = (x0 != tokenizer_encoder.pad_token_id).float()\n",
    "reconstruction_mask = (x1 != tokenizer_decoder.pad_token_id).float()\n",
    "pooled_hidden_fea = model_vae.encoder(x0, attention_mask)[1]\n",
    "\n",
    "mean, logvar = model_vae.encoder.linear(pooled_hidden_fea).chunk(2, -1)\n",
    "\n",
    "latent_z = mean.squeeze(1)\n"
   ]
  },
  {
   "cell_type": "code",
   "execution_count": 201,
   "metadata": {},
   "outputs": [],
   "source": [
    "out = sample_sequence_conditional(\n",
    "                        model=model_vae.decoder,\n",
    "                        context=context_tokens,\n",
    "                        past=latent_z,\n",
    "                        length=x_lengths[0, 1],  # Chunyuan: Fix length; or use <EOS> to complete a sentence\n",
    "                        num_samples=latent_z.size(0),\n",
    "                        device=\"cuda\",\n",
    "                        decoder_tokenizer=model_vae.tokenizer_decoder,\n",
    "                        eos_id=model_vae.eos_token_id\n",
    "                    )"
   ]
  },
  {
   "cell_type": "code",
   "execution_count": 202,
   "metadata": {},
   "outputs": [
    {
     "data": {
      "text/plain": [
       "tensor([[50258,  1312,  1842,   428,  1295,   764,   198, 50259, 50259],\n",
       "        [50258,   262,  2057,   373,   407,   922,   764,   198, 50259]],\n",
       "       device='cuda:0')"
      ]
     },
     "execution_count": 202,
     "metadata": {},
     "output_type": "execute_result"
    }
   ],
   "source": [
    "out"
   ]
  },
  {
   "cell_type": "code",
   "execution_count": 206,
   "metadata": {},
   "outputs": [
    {
     "data": {
      "text/plain": [
       "\"[CLS] we've been to this long established restaurant many times. [SEP] [PAD] [PAD] [PAD] [PAD]\""
      ]
     },
     "execution_count": 206,
     "metadata": {},
     "output_type": "execute_result"
    }
   ],
   "source": [
    "tokenizer_encoder.decode(x0[0])"
   ]
  },
  {
   "cell_type": "code",
   "execution_count": 207,
   "metadata": {},
   "outputs": [
    {
     "data": {
      "text/plain": [
       "\"<BOS> we've been to this long established restaurant many times.\\n<EOS><PAD><PAD><PAD><PAD><PAD>\""
      ]
     },
     "execution_count": 207,
     "metadata": {},
     "output_type": "execute_result"
    }
   ],
   "source": [
    "tokenizer_decoder.decode(x1[0])"
   ]
  },
  {
   "cell_type": "code",
   "execution_count": 208,
   "metadata": {},
   "outputs": [
    {
     "data": {
      "text/plain": [
       "'<BOS> i love this place.\\n<EOS><EOS>'"
      ]
     },
     "execution_count": 208,
     "metadata": {},
     "output_type": "execute_result"
    }
   ],
   "source": [
    "tokenizer_decoder.decode(out[0])"
   ]
  },
  {
   "cell_type": "code",
   "execution_count": null,
   "metadata": {},
   "outputs": [],
   "source": []
  },
  {
   "cell_type": "code",
   "execution_count": null,
   "metadata": {},
   "outputs": [],
   "source": []
  }
 ],
 "metadata": {
  "kernelspec": {
   "display_name": "Python 3",
   "language": "python",
   "name": "python3"
  },
  "language_info": {
   "codemirror_mode": {
    "name": "ipython",
    "version": 3
   },
   "file_extension": ".py",
   "mimetype": "text/x-python",
   "name": "python",
   "nbconvert_exporter": "python",
   "pygments_lexer": "ipython3",
   "version": "3.8.10"
  }
 },
 "nbformat": 4,
 "nbformat_minor": 2
}
