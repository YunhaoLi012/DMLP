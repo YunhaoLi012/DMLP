{
 "cells": [
  {
   "cell_type": "code",
   "execution_count": 1,
   "metadata": {},
   "outputs": [
    {
     "name": "stderr",
     "output_type": "stream",
     "text": [
      "/home/AD/yul080/.local/lib/python3.10/site-packages/tqdm/auto.py:22: TqdmWarning: IProgress not found. Please update jupyter and ipywidgets. See https://ipywidgets.readthedocs.io/en/stable/user_install.html\n",
      "  from .autonotebook import tqdm as notebook_tqdm\n",
      "/home/AD/yul080/.local/lib/python3.10/site-packages/transformers/utils/generic.py:441: UserWarning: torch.utils._pytree._register_pytree_node is deprecated. Please use torch.utils._pytree.register_pytree_node instead.\n",
      "  _torch_pytree._register_pytree_node(\n",
      "/home/AD/yul080/.local/lib/python3.10/site-packages/transformers/utils/generic.py:309: UserWarning: torch.utils._pytree._register_pytree_node is deprecated. Please use torch.utils._pytree.register_pytree_node instead.\n",
      "  _torch_pytree._register_pytree_node(\n"
     ]
    }
   ],
   "source": [
    "from datasets import load_dataset,concatenate_datasets, Dataset,DatasetDict\n",
    "from torch.utils.data import DataLoader\n",
    "from transformers import AutoTokenizer\n",
    "from torch.utils.data import DataLoader\n",
    "from torch.nn.utils.rnn import pad_sequence\n",
    "import torch\n",
    "\n",
    "from DMLP.models.my_transformers import MODEL_CLASS\n",
    "from DMLP.models.models import VAE, DDPM, MLPSkipNet, TransformerNet,VAE_DDPM\n",
    "from DMLP.train.reconstruction import *\n",
    "from DMLP.utils.ddpm_schedule import ddpm_schedule\n",
    "from DMLP.utils.random_init import weights_init_random\n",
    "from DMLP.train.train_function import train_vae_ddpm\n",
    "import numpy as np\n"
   ]
  },
  {
   "cell_type": "code",
   "execution_count": 2,
   "metadata": {},
   "outputs": [],
   "source": [
    "class MyCollator(object):\n",
    "    def __init__(self, encoder_token, decoder_token, mask_token):\n",
    "        self.encoder_token = encoder_token\n",
    "        self.decoder_token = decoder_token\n",
    "        self.mask_token = mask_token\n",
    "    def __call__(self, batch):\n",
    "\n",
    "        input_ids_bert = pad_sequence([torch.tensor(self.mask(f['bert_token']), dtype=torch.long) for f in batch],\n",
    "                                  batch_first=True, padding_value=self.encoder_token)\n",
    "        input_ids_gpt = pad_sequence([torch.tensor(f['gpt2_token'], dtype=torch.long) for f in batch],\n",
    "                                    batch_first=True, padding_value=self.decoder_token)\n",
    "        try:\n",
    "            token_lengths = torch.tensor([[len(f['bert_token']), len(f['gpt2_token'])] for f in batch],\n",
    "                                        dtype=torch.long)\n",
    "        except:\n",
    "            token_lengths = torch.zeros((len(batch), 1091))\n",
    "            for i in range(len(batch)):\n",
    "                token_lengths[i, len(batch[i]['gpt2_token'])] = 1\n",
    "        return (input_ids_bert, input_ids_gpt, token_lengths)\n",
    "    \n",
    "    def mask(self, x):\n",
    "        max_length = len(x)\n",
    "        idx = np.random.choice(range(1, max_length-1))\n",
    "        x[idx] = self.mask_token\n",
    "        return x"
   ]
  },
  {
   "cell_type": "code",
   "execution_count": 6,
   "metadata": {},
   "outputs": [
    {
     "name": "stdout",
     "output_type": "stream",
     "text": [
      "download data\n"
     ]
    }
   ],
   "source": [
    "batch_size = 2\n",
    "tokenizer_encoder = AutoTokenizer.from_pretrained(\"prajjwal1/bert-small\")\n",
    "tokenizer_decoder = AutoTokenizer.from_pretrained(\"gpt2-xl\")\n",
    "special_tokens_dict = {'pad_token': '<PAD>', 'bos_token': '<BOS>', 'eos_token': '<EOS>'}\n",
    "num_added_toks = tokenizer_decoder.add_special_tokens(special_tokens_dict)\n",
    "\n",
    "\n",
    "\n",
    "bert_pad_token = tokenizer_encoder.pad_token_id\n",
    "gpt2_pad_token = tokenizer_decoder.pad_token_id\n",
    "bert_mask_token = tokenizer_encoder.mask_token_id\n",
    "my_collator = MyCollator(bert_pad_token, gpt2_pad_token, bert_mask_token)\n",
    "#download data\n",
    "print(\"download data\")\n",
    "\n",
    "train_eval_dataset =load_dataset(\"guangyil/yelp_short_v2\")\n",
    "eval_dataloader =  DataLoader(train_eval_dataset['test'], num_workers=0, collate_fn=my_collator,batch_size=batch_size)\n",
    "train_dataloader = DataLoader(train_eval_dataset['train'], num_workers=0, collate_fn=my_collator, batch_size=batch_size)"
   ]
  },
  {
   "cell_type": "code",
   "execution_count": 7,
   "metadata": {},
   "outputs": [],
   "source": [
    "count = 0\n",
    "for b in eval_dataloader:\n",
    "    a = b\n",
    "    count += 1\n",
    "    if count == 5:\n",
    "        break"
   ]
  },
  {
   "cell_type": "code",
   "execution_count": 12,
   "metadata": {},
   "outputs": [],
   "source": [
    "#load mode\n",
    "latent_size = 128\n",
    "encoder_model_class = MODEL_CLASS['BertForLatentConnectorAVG']\n",
    "decoder_model_class = MODEL_CLASS['GPT2ForLatentConnectorNew']\n",
    "\n",
    "# output_dir = \"home/AD/yul080/out_temp\"\n",
    "output_dir = \"../../out_temp\""
   ]
  },
  {
   "cell_type": "code",
   "execution_count": 13,
   "metadata": {},
   "outputs": [
    {
     "data": {
      "text/plain": [
       "50260"
      ]
     },
     "execution_count": 13,
     "metadata": {},
     "output_type": "execute_result"
    }
   ],
   "source": [
    "len(tokenizer_decoder)"
   ]
  },
  {
   "cell_type": "code",
   "execution_count": 18,
   "metadata": {},
   "outputs": [
    {
     "name": "stderr",
     "output_type": "stream",
     "text": [
      "Some weights of GPT2ForLatentConnectorNew were not initialized from the model checkpoint at gpt2-xl and are newly initialized: ['h.48.ln_1.bias', 'h.48.attn.c_attn.bias', 'h.48.ln_2.bias', 'linear_emb.weight', 'h.48.attn.c_proj.bias', 'h.48.ln_2.weight', 'h.48.mlp.c_proj.weight', 'lm_head.bias', 'h.48.attn.c_attn.weight', 'h.48.ln_1.weight', 'linear.weight', 'h.48.mlp.c_fc.weight', 'h.48.attn.c_proj.weight', 'h.48.mlp.c_proj.bias', 'h.48.mlp.c_fc.bias']\n",
      "You should probably TRAIN this model on a down-stream task to be able to use it for predictions and inference.\n",
      "Some weights of BertForLatentConnectorAVG were not initialized from the model checkpoint at prajjwal1/bert-small and are newly initialized: ['bert.linear.weight']\n",
      "You should probably TRAIN this model on a down-stream task to be able to use it for predictions and inference.\n"
     ]
    },
    {
     "data": {
      "text/plain": [
       "_IncompatibleKeys(missing_keys=['decoder.transformer.wpe.weight', 'decoder.transformer.h.1.ln_1.weight', 'decoder.transformer.h.1.ln_1.bias', 'decoder.transformer.h.1.attn.c_attn.weight', 'decoder.transformer.h.1.attn.c_attn.bias', 'decoder.transformer.h.1.attn.c_proj.weight', 'decoder.transformer.h.1.attn.c_proj.bias', 'decoder.transformer.h.1.ln_2.weight', 'decoder.transformer.h.1.ln_2.bias', 'decoder.transformer.h.1.mlp.c_fc.weight', 'decoder.transformer.h.1.mlp.c_fc.bias', 'decoder.transformer.h.1.mlp.c_proj.weight', 'decoder.transformer.h.1.mlp.c_proj.bias', 'decoder.transformer.h.2.ln_1.weight', 'decoder.transformer.h.2.ln_1.bias', 'decoder.transformer.h.2.attn.c_attn.weight', 'decoder.transformer.h.2.attn.c_attn.bias', 'decoder.transformer.h.2.attn.c_proj.weight', 'decoder.transformer.h.2.attn.c_proj.bias', 'decoder.transformer.h.2.ln_2.weight', 'decoder.transformer.h.2.ln_2.bias', 'decoder.transformer.h.2.mlp.c_fc.weight', 'decoder.transformer.h.2.mlp.c_fc.bias', 'decoder.transformer.h.2.mlp.c_proj.weight', 'decoder.transformer.h.2.mlp.c_proj.bias', 'decoder.transformer.h.3.ln_1.weight', 'decoder.transformer.h.3.ln_1.bias', 'decoder.transformer.h.3.attn.c_attn.weight', 'decoder.transformer.h.3.attn.c_attn.bias', 'decoder.transformer.h.3.attn.c_proj.weight', 'decoder.transformer.h.3.attn.c_proj.bias', 'decoder.transformer.h.3.ln_2.weight', 'decoder.transformer.h.3.ln_2.bias', 'decoder.transformer.h.3.mlp.c_fc.weight', 'decoder.transformer.h.3.mlp.c_fc.bias', 'decoder.transformer.h.3.mlp.c_proj.weight', 'decoder.transformer.h.3.mlp.c_proj.bias', 'decoder.transformer.h.4.ln_1.weight', 'decoder.transformer.h.4.ln_1.bias', 'decoder.transformer.h.4.attn.c_attn.weight', 'decoder.transformer.h.4.attn.c_attn.bias', 'decoder.transformer.h.4.attn.c_proj.weight', 'decoder.transformer.h.4.attn.c_proj.bias', 'decoder.transformer.h.4.ln_2.weight', 'decoder.transformer.h.4.ln_2.bias', 'decoder.transformer.h.4.mlp.c_fc.weight', 'decoder.transformer.h.4.mlp.c_fc.bias', 'decoder.transformer.h.4.mlp.c_proj.weight', 'decoder.transformer.h.4.mlp.c_proj.bias', 'decoder.transformer.h.5.ln_1.weight', 'decoder.transformer.h.5.ln_1.bias', 'decoder.transformer.h.5.attn.c_attn.weight', 'decoder.transformer.h.5.attn.c_attn.bias', 'decoder.transformer.h.5.attn.c_proj.weight', 'decoder.transformer.h.5.attn.c_proj.bias', 'decoder.transformer.h.5.ln_2.weight', 'decoder.transformer.h.5.ln_2.bias', 'decoder.transformer.h.5.mlp.c_fc.weight', 'decoder.transformer.h.5.mlp.c_fc.bias', 'decoder.transformer.h.5.mlp.c_proj.weight', 'decoder.transformer.h.5.mlp.c_proj.bias', 'decoder.transformer.h.6.ln_1.weight', 'decoder.transformer.h.6.ln_1.bias', 'decoder.transformer.h.6.attn.c_attn.weight', 'decoder.transformer.h.6.attn.c_attn.bias', 'decoder.transformer.h.6.attn.c_proj.weight', 'decoder.transformer.h.6.attn.c_proj.bias', 'decoder.transformer.h.6.ln_2.weight', 'decoder.transformer.h.6.ln_2.bias', 'decoder.transformer.h.6.mlp.c_fc.weight', 'decoder.transformer.h.6.mlp.c_fc.bias', 'decoder.transformer.h.6.mlp.c_proj.weight', 'decoder.transformer.h.6.mlp.c_proj.bias', 'decoder.transformer.h.7.ln_1.weight', 'decoder.transformer.h.7.ln_1.bias', 'decoder.transformer.h.7.attn.c_attn.weight', 'decoder.transformer.h.7.attn.c_attn.bias', 'decoder.transformer.h.7.attn.c_proj.weight', 'decoder.transformer.h.7.attn.c_proj.bias', 'decoder.transformer.h.7.ln_2.weight', 'decoder.transformer.h.7.ln_2.bias', 'decoder.transformer.h.7.mlp.c_fc.weight', 'decoder.transformer.h.7.mlp.c_fc.bias', 'decoder.transformer.h.7.mlp.c_proj.weight', 'decoder.transformer.h.7.mlp.c_proj.bias', 'decoder.transformer.h.8.ln_1.weight', 'decoder.transformer.h.8.ln_1.bias', 'decoder.transformer.h.8.attn.c_attn.weight', 'decoder.transformer.h.8.attn.c_attn.bias', 'decoder.transformer.h.8.attn.c_proj.weight', 'decoder.transformer.h.8.attn.c_proj.bias', 'decoder.transformer.h.8.ln_2.weight', 'decoder.transformer.h.8.ln_2.bias', 'decoder.transformer.h.8.mlp.c_fc.weight', 'decoder.transformer.h.8.mlp.c_fc.bias', 'decoder.transformer.h.8.mlp.c_proj.weight', 'decoder.transformer.h.8.mlp.c_proj.bias', 'decoder.transformer.h.9.ln_1.weight', 'decoder.transformer.h.9.ln_1.bias', 'decoder.transformer.h.9.attn.c_attn.weight', 'decoder.transformer.h.9.attn.c_attn.bias', 'decoder.transformer.h.9.attn.c_proj.weight', 'decoder.transformer.h.9.attn.c_proj.bias', 'decoder.transformer.h.9.ln_2.weight', 'decoder.transformer.h.9.ln_2.bias', 'decoder.transformer.h.9.mlp.c_fc.weight', 'decoder.transformer.h.9.mlp.c_fc.bias', 'decoder.transformer.h.9.mlp.c_proj.weight', 'decoder.transformer.h.9.mlp.c_proj.bias', 'decoder.transformer.h.10.ln_1.weight', 'decoder.transformer.h.10.ln_1.bias', 'decoder.transformer.h.10.attn.c_attn.weight', 'decoder.transformer.h.10.attn.c_attn.bias', 'decoder.transformer.h.10.attn.c_proj.weight', 'decoder.transformer.h.10.attn.c_proj.bias', 'decoder.transformer.h.10.ln_2.weight', 'decoder.transformer.h.10.ln_2.bias', 'decoder.transformer.h.10.mlp.c_fc.weight', 'decoder.transformer.h.10.mlp.c_fc.bias', 'decoder.transformer.h.10.mlp.c_proj.weight', 'decoder.transformer.h.10.mlp.c_proj.bias', 'decoder.transformer.h.11.ln_1.weight', 'decoder.transformer.h.11.ln_1.bias', 'decoder.transformer.h.11.attn.c_attn.weight', 'decoder.transformer.h.11.attn.c_attn.bias', 'decoder.transformer.h.11.attn.c_proj.weight', 'decoder.transformer.h.11.attn.c_proj.bias', 'decoder.transformer.h.11.ln_2.weight', 'decoder.transformer.h.11.ln_2.bias', 'decoder.transformer.h.11.mlp.c_fc.weight', 'decoder.transformer.h.11.mlp.c_fc.bias', 'decoder.transformer.h.11.mlp.c_proj.weight', 'decoder.transformer.h.11.mlp.c_proj.bias', 'decoder.transformer.h.12.ln_1.weight', 'decoder.transformer.h.12.ln_1.bias', 'decoder.transformer.h.12.attn.c_attn.weight', 'decoder.transformer.h.12.attn.c_attn.bias', 'decoder.transformer.h.12.attn.c_proj.weight', 'decoder.transformer.h.12.attn.c_proj.bias', 'decoder.transformer.h.12.ln_2.weight', 'decoder.transformer.h.12.ln_2.bias', 'decoder.transformer.h.12.mlp.c_fc.weight', 'decoder.transformer.h.12.mlp.c_fc.bias', 'decoder.transformer.h.12.mlp.c_proj.weight', 'decoder.transformer.h.12.mlp.c_proj.bias', 'decoder.transformer.h.13.ln_1.weight', 'decoder.transformer.h.13.ln_1.bias', 'decoder.transformer.h.13.attn.c_attn.weight', 'decoder.transformer.h.13.attn.c_attn.bias', 'decoder.transformer.h.13.attn.c_proj.weight', 'decoder.transformer.h.13.attn.c_proj.bias', 'decoder.transformer.h.13.ln_2.weight', 'decoder.transformer.h.13.ln_2.bias', 'decoder.transformer.h.13.mlp.c_fc.weight', 'decoder.transformer.h.13.mlp.c_fc.bias', 'decoder.transformer.h.13.mlp.c_proj.weight', 'decoder.transformer.h.13.mlp.c_proj.bias', 'decoder.transformer.h.14.ln_1.weight', 'decoder.transformer.h.14.ln_1.bias', 'decoder.transformer.h.14.attn.c_attn.weight', 'decoder.transformer.h.14.attn.c_attn.bias', 'decoder.transformer.h.14.attn.c_proj.weight', 'decoder.transformer.h.14.attn.c_proj.bias', 'decoder.transformer.h.14.ln_2.weight', 'decoder.transformer.h.14.ln_2.bias', 'decoder.transformer.h.14.mlp.c_fc.weight', 'decoder.transformer.h.14.mlp.c_fc.bias', 'decoder.transformer.h.14.mlp.c_proj.weight', 'decoder.transformer.h.14.mlp.c_proj.bias', 'decoder.transformer.h.15.ln_1.weight', 'decoder.transformer.h.15.ln_1.bias', 'decoder.transformer.h.15.attn.c_attn.weight', 'decoder.transformer.h.15.attn.c_attn.bias', 'decoder.transformer.h.15.attn.c_proj.weight', 'decoder.transformer.h.15.attn.c_proj.bias', 'decoder.transformer.h.15.ln_2.weight', 'decoder.transformer.h.15.ln_2.bias', 'decoder.transformer.h.15.mlp.c_fc.weight', 'decoder.transformer.h.15.mlp.c_fc.bias', 'decoder.transformer.h.15.mlp.c_proj.weight', 'decoder.transformer.h.15.mlp.c_proj.bias', 'decoder.transformer.h.16.ln_1.weight', 'decoder.transformer.h.16.ln_1.bias', 'decoder.transformer.h.16.attn.c_attn.weight', 'decoder.transformer.h.16.attn.c_attn.bias', 'decoder.transformer.h.16.attn.c_proj.weight', 'decoder.transformer.h.16.attn.c_proj.bias', 'decoder.transformer.h.16.ln_2.weight', 'decoder.transformer.h.16.ln_2.bias', 'decoder.transformer.h.16.mlp.c_fc.weight', 'decoder.transformer.h.16.mlp.c_fc.bias', 'decoder.transformer.h.16.mlp.c_proj.weight', 'decoder.transformer.h.16.mlp.c_proj.bias', 'decoder.transformer.h.17.ln_1.weight', 'decoder.transformer.h.17.ln_1.bias', 'decoder.transformer.h.17.attn.c_attn.weight', 'decoder.transformer.h.17.attn.c_attn.bias', 'decoder.transformer.h.17.attn.c_proj.weight', 'decoder.transformer.h.17.attn.c_proj.bias', 'decoder.transformer.h.17.ln_2.weight', 'decoder.transformer.h.17.ln_2.bias', 'decoder.transformer.h.17.mlp.c_fc.weight', 'decoder.transformer.h.17.mlp.c_fc.bias', 'decoder.transformer.h.17.mlp.c_proj.weight', 'decoder.transformer.h.17.mlp.c_proj.bias', 'decoder.transformer.h.18.ln_1.weight', 'decoder.transformer.h.18.ln_1.bias', 'decoder.transformer.h.18.attn.c_attn.weight', 'decoder.transformer.h.18.attn.c_attn.bias', 'decoder.transformer.h.18.attn.c_proj.weight', 'decoder.transformer.h.18.attn.c_proj.bias', 'decoder.transformer.h.18.ln_2.weight', 'decoder.transformer.h.18.ln_2.bias', 'decoder.transformer.h.18.mlp.c_fc.weight', 'decoder.transformer.h.18.mlp.c_fc.bias', 'decoder.transformer.h.18.mlp.c_proj.weight', 'decoder.transformer.h.18.mlp.c_proj.bias', 'decoder.transformer.h.19.ln_1.weight', 'decoder.transformer.h.19.ln_1.bias', 'decoder.transformer.h.19.attn.c_attn.weight', 'decoder.transformer.h.19.attn.c_attn.bias', 'decoder.transformer.h.19.attn.c_proj.weight', 'decoder.transformer.h.19.attn.c_proj.bias', 'decoder.transformer.h.19.ln_2.weight', 'decoder.transformer.h.19.ln_2.bias', 'decoder.transformer.h.19.mlp.c_fc.weight', 'decoder.transformer.h.19.mlp.c_fc.bias', 'decoder.transformer.h.19.mlp.c_proj.weight', 'decoder.transformer.h.19.mlp.c_proj.bias', 'decoder.transformer.h.20.ln_1.weight', 'decoder.transformer.h.20.ln_1.bias', 'decoder.transformer.h.20.attn.c_attn.weight', 'decoder.transformer.h.20.attn.c_attn.bias', 'decoder.transformer.h.20.attn.c_proj.weight', 'decoder.transformer.h.20.attn.c_proj.bias', 'decoder.transformer.h.20.ln_2.weight', 'decoder.transformer.h.20.ln_2.bias', 'decoder.transformer.h.20.mlp.c_fc.weight', 'decoder.transformer.h.20.mlp.c_fc.bias', 'decoder.transformer.h.20.mlp.c_proj.weight', 'decoder.transformer.h.20.mlp.c_proj.bias', 'decoder.transformer.h.21.ln_1.weight', 'decoder.transformer.h.21.ln_1.bias', 'decoder.transformer.h.21.attn.c_attn.weight', 'decoder.transformer.h.21.attn.c_attn.bias', 'decoder.transformer.h.21.attn.c_proj.weight', 'decoder.transformer.h.21.attn.c_proj.bias', 'decoder.transformer.h.21.ln_2.weight', 'decoder.transformer.h.21.ln_2.bias', 'decoder.transformer.h.21.mlp.c_fc.weight', 'decoder.transformer.h.21.mlp.c_fc.bias', 'decoder.transformer.h.21.mlp.c_proj.weight', 'decoder.transformer.h.21.mlp.c_proj.bias', 'decoder.transformer.h.22.ln_1.weight', 'decoder.transformer.h.22.ln_1.bias', 'decoder.transformer.h.22.attn.c_attn.weight', 'decoder.transformer.h.22.attn.c_attn.bias', 'decoder.transformer.h.22.attn.c_proj.weight', 'decoder.transformer.h.22.attn.c_proj.bias', 'decoder.transformer.h.22.ln_2.weight', 'decoder.transformer.h.22.ln_2.bias', 'decoder.transformer.h.22.mlp.c_fc.weight', 'decoder.transformer.h.22.mlp.c_fc.bias', 'decoder.transformer.h.22.mlp.c_proj.weight', 'decoder.transformer.h.22.mlp.c_proj.bias', 'decoder.transformer.h.23.ln_1.weight', 'decoder.transformer.h.23.ln_1.bias', 'decoder.transformer.h.23.attn.c_attn.weight', 'decoder.transformer.h.23.attn.c_attn.bias', 'decoder.transformer.h.23.attn.c_proj.weight', 'decoder.transformer.h.23.attn.c_proj.bias', 'decoder.transformer.h.23.ln_2.weight', 'decoder.transformer.h.23.ln_2.bias', 'decoder.transformer.h.23.mlp.c_fc.weight', 'decoder.transformer.h.23.mlp.c_fc.bias', 'decoder.transformer.h.23.mlp.c_proj.weight', 'decoder.transformer.h.23.mlp.c_proj.bias', 'decoder.transformer.h.24.ln_1.weight', 'decoder.transformer.h.24.ln_1.bias', 'decoder.transformer.h.24.attn.c_attn.weight', 'decoder.transformer.h.24.attn.c_attn.bias', 'decoder.transformer.h.24.attn.c_proj.weight', 'decoder.transformer.h.24.attn.c_proj.bias', 'decoder.transformer.h.24.ln_2.weight', 'decoder.transformer.h.24.ln_2.bias', 'decoder.transformer.h.24.mlp.c_fc.weight', 'decoder.transformer.h.24.mlp.c_fc.bias', 'decoder.transformer.h.24.mlp.c_proj.weight', 'decoder.transformer.h.24.mlp.c_proj.bias', 'decoder.transformer.h.25.ln_1.weight', 'decoder.transformer.h.25.ln_1.bias', 'decoder.transformer.h.25.attn.c_attn.weight', 'decoder.transformer.h.25.attn.c_attn.bias', 'decoder.transformer.h.25.attn.c_proj.weight', 'decoder.transformer.h.25.attn.c_proj.bias', 'decoder.transformer.h.25.ln_2.weight', 'decoder.transformer.h.25.ln_2.bias', 'decoder.transformer.h.25.mlp.c_fc.weight', 'decoder.transformer.h.25.mlp.c_fc.bias', 'decoder.transformer.h.25.mlp.c_proj.weight', 'decoder.transformer.h.25.mlp.c_proj.bias', 'decoder.transformer.h.26.ln_1.weight', 'decoder.transformer.h.26.ln_1.bias', 'decoder.transformer.h.26.attn.c_attn.weight', 'decoder.transformer.h.26.attn.c_attn.bias', 'decoder.transformer.h.26.attn.c_proj.weight', 'decoder.transformer.h.26.attn.c_proj.bias', 'decoder.transformer.h.26.ln_2.weight', 'decoder.transformer.h.26.ln_2.bias', 'decoder.transformer.h.26.mlp.c_fc.weight', 'decoder.transformer.h.26.mlp.c_fc.bias', 'decoder.transformer.h.26.mlp.c_proj.weight', 'decoder.transformer.h.26.mlp.c_proj.bias', 'decoder.transformer.h.27.ln_1.weight', 'decoder.transformer.h.27.ln_1.bias', 'decoder.transformer.h.27.attn.c_attn.weight', 'decoder.transformer.h.27.attn.c_attn.bias', 'decoder.transformer.h.27.attn.c_proj.weight', 'decoder.transformer.h.27.attn.c_proj.bias', 'decoder.transformer.h.27.ln_2.weight', 'decoder.transformer.h.27.ln_2.bias', 'decoder.transformer.h.27.mlp.c_fc.weight', 'decoder.transformer.h.27.mlp.c_fc.bias', 'decoder.transformer.h.27.mlp.c_proj.weight', 'decoder.transformer.h.27.mlp.c_proj.bias', 'decoder.transformer.h.28.ln_1.weight', 'decoder.transformer.h.28.ln_1.bias', 'decoder.transformer.h.28.attn.c_attn.weight', 'decoder.transformer.h.28.attn.c_attn.bias', 'decoder.transformer.h.28.attn.c_proj.weight', 'decoder.transformer.h.28.attn.c_proj.bias', 'decoder.transformer.h.28.ln_2.weight', 'decoder.transformer.h.28.ln_2.bias', 'decoder.transformer.h.28.mlp.c_fc.weight', 'decoder.transformer.h.28.mlp.c_fc.bias', 'decoder.transformer.h.28.mlp.c_proj.weight', 'decoder.transformer.h.28.mlp.c_proj.bias', 'decoder.transformer.h.29.ln_1.weight', 'decoder.transformer.h.29.ln_1.bias', 'decoder.transformer.h.29.attn.c_attn.weight', 'decoder.transformer.h.29.attn.c_attn.bias', 'decoder.transformer.h.29.attn.c_proj.weight', 'decoder.transformer.h.29.attn.c_proj.bias', 'decoder.transformer.h.29.ln_2.weight', 'decoder.transformer.h.29.ln_2.bias', 'decoder.transformer.h.29.mlp.c_fc.weight', 'decoder.transformer.h.29.mlp.c_fc.bias', 'decoder.transformer.h.29.mlp.c_proj.weight', 'decoder.transformer.h.29.mlp.c_proj.bias', 'decoder.transformer.h.30.ln_1.weight', 'decoder.transformer.h.30.ln_1.bias', 'decoder.transformer.h.30.attn.c_attn.weight', 'decoder.transformer.h.30.attn.c_attn.bias', 'decoder.transformer.h.30.attn.c_proj.weight', 'decoder.transformer.h.30.attn.c_proj.bias', 'decoder.transformer.h.30.ln_2.weight', 'decoder.transformer.h.30.ln_2.bias', 'decoder.transformer.h.30.mlp.c_fc.weight', 'decoder.transformer.h.30.mlp.c_fc.bias', 'decoder.transformer.h.30.mlp.c_proj.weight', 'decoder.transformer.h.30.mlp.c_proj.bias', 'decoder.transformer.h.31.ln_1.weight', 'decoder.transformer.h.31.ln_1.bias', 'decoder.transformer.h.31.attn.c_attn.weight', 'decoder.transformer.h.31.attn.c_attn.bias', 'decoder.transformer.h.31.attn.c_proj.weight', 'decoder.transformer.h.31.attn.c_proj.bias', 'decoder.transformer.h.31.ln_2.weight', 'decoder.transformer.h.31.ln_2.bias', 'decoder.transformer.h.31.mlp.c_fc.weight', 'decoder.transformer.h.31.mlp.c_fc.bias', 'decoder.transformer.h.31.mlp.c_proj.weight', 'decoder.transformer.h.31.mlp.c_proj.bias', 'decoder.transformer.h.32.ln_1.weight', 'decoder.transformer.h.32.ln_1.bias', 'decoder.transformer.h.32.attn.c_attn.weight', 'decoder.transformer.h.32.attn.c_attn.bias', 'decoder.transformer.h.32.attn.c_proj.weight', 'decoder.transformer.h.32.attn.c_proj.bias', 'decoder.transformer.h.32.ln_2.weight', 'decoder.transformer.h.32.ln_2.bias', 'decoder.transformer.h.32.mlp.c_fc.weight', 'decoder.transformer.h.32.mlp.c_fc.bias', 'decoder.transformer.h.32.mlp.c_proj.weight', 'decoder.transformer.h.32.mlp.c_proj.bias', 'decoder.transformer.h.33.ln_1.weight', 'decoder.transformer.h.33.ln_1.bias', 'decoder.transformer.h.33.attn.c_attn.weight', 'decoder.transformer.h.33.attn.c_attn.bias', 'decoder.transformer.h.33.attn.c_proj.weight', 'decoder.transformer.h.33.attn.c_proj.bias', 'decoder.transformer.h.33.ln_2.weight', 'decoder.transformer.h.33.ln_2.bias', 'decoder.transformer.h.33.mlp.c_fc.weight', 'decoder.transformer.h.33.mlp.c_fc.bias', 'decoder.transformer.h.33.mlp.c_proj.weight', 'decoder.transformer.h.33.mlp.c_proj.bias', 'decoder.transformer.h.34.ln_1.weight', 'decoder.transformer.h.34.ln_1.bias', 'decoder.transformer.h.34.attn.c_attn.weight', 'decoder.transformer.h.34.attn.c_attn.bias', 'decoder.transformer.h.34.attn.c_proj.weight', 'decoder.transformer.h.34.attn.c_proj.bias', 'decoder.transformer.h.34.ln_2.weight', 'decoder.transformer.h.34.ln_2.bias', 'decoder.transformer.h.34.mlp.c_fc.weight', 'decoder.transformer.h.34.mlp.c_fc.bias', 'decoder.transformer.h.34.mlp.c_proj.weight', 'decoder.transformer.h.34.mlp.c_proj.bias', 'decoder.transformer.h.35.ln_1.weight', 'decoder.transformer.h.35.ln_1.bias', 'decoder.transformer.h.35.attn.c_attn.weight', 'decoder.transformer.h.35.attn.c_attn.bias', 'decoder.transformer.h.35.attn.c_proj.weight', 'decoder.transformer.h.35.attn.c_proj.bias', 'decoder.transformer.h.35.ln_2.weight', 'decoder.transformer.h.35.ln_2.bias', 'decoder.transformer.h.35.mlp.c_fc.weight', 'decoder.transformer.h.35.mlp.c_fc.bias', 'decoder.transformer.h.35.mlp.c_proj.weight', 'decoder.transformer.h.35.mlp.c_proj.bias', 'decoder.transformer.h.36.ln_1.weight', 'decoder.transformer.h.36.ln_1.bias', 'decoder.transformer.h.36.attn.c_attn.weight', 'decoder.transformer.h.36.attn.c_attn.bias', 'decoder.transformer.h.36.attn.c_proj.weight', 'decoder.transformer.h.36.attn.c_proj.bias', 'decoder.transformer.h.36.ln_2.weight', 'decoder.transformer.h.36.ln_2.bias', 'decoder.transformer.h.36.mlp.c_fc.weight', 'decoder.transformer.h.36.mlp.c_fc.bias', 'decoder.transformer.h.36.mlp.c_proj.weight', 'decoder.transformer.h.36.mlp.c_proj.bias', 'decoder.transformer.h.37.ln_1.weight', 'decoder.transformer.h.37.ln_1.bias', 'decoder.transformer.h.37.attn.c_attn.weight', 'decoder.transformer.h.37.attn.c_attn.bias', 'decoder.transformer.h.37.attn.c_proj.weight', 'decoder.transformer.h.37.attn.c_proj.bias', 'decoder.transformer.h.37.ln_2.weight', 'decoder.transformer.h.37.ln_2.bias', 'decoder.transformer.h.37.mlp.c_fc.weight', 'decoder.transformer.h.37.mlp.c_fc.bias', 'decoder.transformer.h.37.mlp.c_proj.weight', 'decoder.transformer.h.37.mlp.c_proj.bias', 'decoder.transformer.h.38.ln_1.weight', 'decoder.transformer.h.38.ln_1.bias', 'decoder.transformer.h.38.attn.c_attn.weight', 'decoder.transformer.h.38.attn.c_attn.bias', 'decoder.transformer.h.38.attn.c_proj.weight', 'decoder.transformer.h.38.attn.c_proj.bias', 'decoder.transformer.h.38.ln_2.weight', 'decoder.transformer.h.38.ln_2.bias', 'decoder.transformer.h.38.mlp.c_fc.weight', 'decoder.transformer.h.38.mlp.c_fc.bias', 'decoder.transformer.h.38.mlp.c_proj.weight', 'decoder.transformer.h.38.mlp.c_proj.bias', 'decoder.transformer.h.39.ln_1.weight', 'decoder.transformer.h.39.ln_1.bias', 'decoder.transformer.h.39.attn.c_attn.weight', 'decoder.transformer.h.39.attn.c_attn.bias', 'decoder.transformer.h.39.attn.c_proj.weight', 'decoder.transformer.h.39.attn.c_proj.bias', 'decoder.transformer.h.39.ln_2.weight', 'decoder.transformer.h.39.ln_2.bias', 'decoder.transformer.h.39.mlp.c_fc.weight', 'decoder.transformer.h.39.mlp.c_fc.bias', 'decoder.transformer.h.39.mlp.c_proj.weight', 'decoder.transformer.h.39.mlp.c_proj.bias', 'decoder.transformer.h.40.ln_1.weight', 'decoder.transformer.h.40.ln_1.bias', 'decoder.transformer.h.40.attn.c_attn.weight', 'decoder.transformer.h.40.attn.c_attn.bias', 'decoder.transformer.h.40.attn.c_proj.weight', 'decoder.transformer.h.40.attn.c_proj.bias', 'decoder.transformer.h.40.ln_2.weight', 'decoder.transformer.h.40.ln_2.bias', 'decoder.transformer.h.40.mlp.c_fc.weight', 'decoder.transformer.h.40.mlp.c_fc.bias', 'decoder.transformer.h.40.mlp.c_proj.weight', 'decoder.transformer.h.40.mlp.c_proj.bias', 'decoder.transformer.h.41.ln_1.weight', 'decoder.transformer.h.41.ln_1.bias', 'decoder.transformer.h.41.attn.c_attn.weight', 'decoder.transformer.h.41.attn.c_attn.bias', 'decoder.transformer.h.41.attn.c_proj.weight', 'decoder.transformer.h.41.attn.c_proj.bias', 'decoder.transformer.h.41.ln_2.weight', 'decoder.transformer.h.41.ln_2.bias', 'decoder.transformer.h.41.mlp.c_fc.weight', 'decoder.transformer.h.41.mlp.c_fc.bias', 'decoder.transformer.h.41.mlp.c_proj.weight', 'decoder.transformer.h.41.mlp.c_proj.bias', 'decoder.transformer.h.42.ln_1.weight', 'decoder.transformer.h.42.ln_1.bias', 'decoder.transformer.h.42.attn.c_attn.weight', 'decoder.transformer.h.42.attn.c_attn.bias', 'decoder.transformer.h.42.attn.c_proj.weight', 'decoder.transformer.h.42.attn.c_proj.bias', 'decoder.transformer.h.42.ln_2.weight', 'decoder.transformer.h.42.ln_2.bias', 'decoder.transformer.h.42.mlp.c_fc.weight', 'decoder.transformer.h.42.mlp.c_fc.bias', 'decoder.transformer.h.42.mlp.c_proj.weight', 'decoder.transformer.h.42.mlp.c_proj.bias', 'decoder.transformer.h.43.ln_1.weight', 'decoder.transformer.h.43.ln_1.bias', 'decoder.transformer.h.43.attn.c_attn.weight', 'decoder.transformer.h.43.attn.c_attn.bias', 'decoder.transformer.h.43.attn.c_proj.weight', 'decoder.transformer.h.43.attn.c_proj.bias', 'decoder.transformer.h.43.ln_2.weight', 'decoder.transformer.h.43.ln_2.bias', 'decoder.transformer.h.43.mlp.c_fc.weight', 'decoder.transformer.h.43.mlp.c_fc.bias', 'decoder.transformer.h.43.mlp.c_proj.weight', 'decoder.transformer.h.43.mlp.c_proj.bias', 'decoder.transformer.h.44.ln_1.weight', 'decoder.transformer.h.44.ln_1.bias', 'decoder.transformer.h.44.attn.c_attn.weight', 'decoder.transformer.h.44.attn.c_attn.bias', 'decoder.transformer.h.44.attn.c_proj.weight', 'decoder.transformer.h.44.attn.c_proj.bias', 'decoder.transformer.h.44.ln_2.weight', 'decoder.transformer.h.44.ln_2.bias', 'decoder.transformer.h.44.mlp.c_fc.weight', 'decoder.transformer.h.44.mlp.c_fc.bias', 'decoder.transformer.h.44.mlp.c_proj.weight', 'decoder.transformer.h.44.mlp.c_proj.bias', 'decoder.transformer.h.45.ln_1.weight', 'decoder.transformer.h.45.ln_1.bias', 'decoder.transformer.h.45.attn.c_attn.weight', 'decoder.transformer.h.45.attn.c_attn.bias', 'decoder.transformer.h.45.attn.c_proj.weight', 'decoder.transformer.h.45.attn.c_proj.bias', 'decoder.transformer.h.45.ln_2.weight', 'decoder.transformer.h.45.ln_2.bias', 'decoder.transformer.h.45.mlp.c_fc.weight', 'decoder.transformer.h.45.mlp.c_fc.bias', 'decoder.transformer.h.45.mlp.c_proj.weight', 'decoder.transformer.h.45.mlp.c_proj.bias', 'decoder.transformer.h.46.ln_1.weight', 'decoder.transformer.h.46.ln_1.bias', 'decoder.transformer.h.46.attn.c_attn.weight', 'decoder.transformer.h.46.attn.c_attn.bias', 'decoder.transformer.h.46.attn.c_proj.weight', 'decoder.transformer.h.46.attn.c_proj.bias', 'decoder.transformer.h.46.ln_2.weight', 'decoder.transformer.h.46.ln_2.bias', 'decoder.transformer.h.46.mlp.c_fc.weight', 'decoder.transformer.h.46.mlp.c_fc.bias', 'decoder.transformer.h.46.mlp.c_proj.weight', 'decoder.transformer.h.46.mlp.c_proj.bias', 'decoder.transformer.h.47.ln_1.weight', 'decoder.transformer.h.47.ln_1.bias', 'decoder.transformer.h.47.attn.c_attn.weight', 'decoder.transformer.h.47.attn.c_attn.bias', 'decoder.transformer.h.47.attn.c_proj.weight', 'decoder.transformer.h.47.attn.c_proj.bias', 'decoder.transformer.h.47.ln_2.weight', 'decoder.transformer.h.47.ln_2.bias', 'decoder.transformer.h.47.mlp.c_fc.weight', 'decoder.transformer.h.47.mlp.c_fc.bias', 'decoder.transformer.h.47.mlp.c_proj.weight', 'decoder.transformer.h.47.mlp.c_proj.bias', 'decoder.transformer.h.48.ln_1.weight', 'decoder.transformer.h.48.ln_1.bias', 'decoder.transformer.h.48.attn.c_attn.weight', 'decoder.transformer.h.48.attn.c_attn.bias', 'decoder.transformer.h.48.attn.c_proj.weight', 'decoder.transformer.h.48.attn.c_proj.bias', 'decoder.transformer.h.48.ln_2.weight', 'decoder.transformer.h.48.ln_2.bias', 'decoder.transformer.h.48.mlp.c_fc.weight', 'decoder.transformer.h.48.mlp.c_fc.bias', 'decoder.transformer.h.48.mlp.c_proj.weight', 'decoder.transformer.h.48.mlp.c_proj.bias', 'decoder.transformer.ln_f.weight', 'decoder.transformer.ln_f.bias', 'decoder.lm_head.weight', 'decoder.lm_head.bias'], unexpected_keys=[])"
      ]
     },
     "execution_count": 18,
     "metadata": {},
     "output_type": "execute_result"
    }
   ],
   "source": [
    "model_decoder = decoder_model_class.from_pretrained(\"gpt2-xl\", latent_size=latent_size,\n",
    "                                                            latent_as_gpt_emb=True,\n",
    "                                                            latent_as_gpt_memory=True,local_files_only=False)\n",
    "model_decoder.resize_token_embeddings(len(tokenizer_decoder))\n",
    "decoder_n_layer = model_decoder.transformer.config.n_layer\n",
    "model_decoder.transformer.change_order()\n",
    "\n",
    "model_encoder = encoder_model_class.from_pretrained(\"prajjwal1/bert-small\", latent_size=latent_size,\n",
    "                                                        pad_id=tokenizer_encoder.pad_token_id,local_files_only=False)\n",
    "model_vae = VAE(model_encoder, model_decoder, tokenizer_encoder, tokenizer_decoder, latent_size, output_dir)\n",
    "\n",
    "\n",
    "checkpoint = torch.load('/home/AD/yul080/runs/checkpoint-full-2/training.bin',map_location=torch.device('cpu'))\n",
    "model_vae.apply(weights_init_random)\n",
    "model_vae.load_state_dict(checkpoint['model_state_dict'], strict=False) \n",
    "# model_vae.to('cuda')   "
   ]
  },
  {
   "cell_type": "code",
   "execution_count": 20,
   "metadata": {},
   "outputs": [],
   "source": [
    "encoder_out = model_vae.encoder(a[0])"
   ]
  },
  {
   "cell_type": "code",
   "execution_count": 23,
   "metadata": {},
   "outputs": [
    {
     "data": {
      "text/plain": [
       "torch.Size([2, 18, 512])"
      ]
     },
     "execution_count": 23,
     "metadata": {},
     "output_type": "execute_result"
    }
   ],
   "source": [
    "encoder_out[0].shape"
   ]
  },
  {
   "cell_type": "code",
   "execution_count": 24,
   "metadata": {},
   "outputs": [
    {
     "data": {
      "text/plain": [
       "torch.Size([2, 512])"
      ]
     },
     "execution_count": 24,
     "metadata": {},
     "output_type": "execute_result"
    }
   ],
   "source": [
    "encoder_out[1].shape"
   ]
  },
  {
   "cell_type": "code",
   "execution_count": 25,
   "metadata": {},
   "outputs": [
    {
     "data": {
      "text/plain": [
       "torch.Size([2, 1, 512])"
      ]
     },
     "execution_count": 25,
     "metadata": {},
     "output_type": "execute_result"
    }
   ],
   "source": [
    "encoder_out[2].shape"
   ]
  },
  {
   "cell_type": "code",
   "execution_count": 32,
   "metadata": {},
   "outputs": [],
   "source": [
    "count =0\n",
    "for i in train_dataloader:\n",
    "    x0,x1,x_lengths = i\n",
    "    count+=1\n",
    "    if count==10:\n",
    "        break\n",
    "max_len_values, _ = x_lengths.max(0)\n",
    "x0 = x0[:, :max_len_values[0]]\n",
    "x1 = x1[:, :max_len_values[1]]\n",
    "x0 = x0.to(\"cuda\")\n",
    "x1 = x1.to(\"cuda\")\n",
    "x_lengths = x_lengths.to(\"cuda\")\n",
    "context_tokens = tokenizer_decoder.encode(tokenizer_decoder.bos_token)\n",
    "attention_mask = (x0 != tokenizer_encoder.pad_token_id).float()\n",
    "reconstruction_mask = (x1 != tokenizer_decoder.pad_token_id).float()\n",
    "pooled_hidden_fea = model_vae.encoder(x0, attention_mask)[1]\n",
    "\n",
    "mean, logvar = model_vae.encoder.linear(pooled_hidden_fea).chunk(2, -1)\n",
    "\n",
    "latent_z = mean.squeeze(1)\n"
   ]
  },
  {
   "cell_type": "code",
   "execution_count": 33,
   "metadata": {},
   "outputs": [],
   "source": [
    "out = sample_sequence_conditional(\n",
    "                        model=model_vae.decoder,\n",
    "                        context=context_tokens,\n",
    "                        past=latent_z,\n",
    "                        length=x_lengths[0, 1],  # Chunyuan: Fix length; or use <EOS> to complete a sentence\n",
    "                        num_samples=latent_z.size(0),\n",
    "                        device=\"cuda\",\n",
    "                        decoder_tokenizer=model_vae.tokenizer_decoder,\n",
    "                        eos_id=model_vae.eos_token_id\n",
    "                    )"
   ]
  },
  {
   "cell_type": "code",
   "execution_count": 34,
   "metadata": {},
   "outputs": [
    {
     "data": {
      "text/plain": [
       "tensor([[50258,  5290,  7962,  1312,   705,   303,  1683,  9658,   287,   764,\n",
       "           198, 50259],\n",
       "        [50258,   428,  1295,   318,   262,  1266,  5145,   198, 50259,  5145,\n",
       "           198, 50259]], device='cuda:0')"
      ]
     },
     "execution_count": 34,
     "metadata": {},
     "output_type": "execute_result"
    }
   ],
   "source": [
    "out"
   ]
  },
  {
   "cell_type": "code",
   "execution_count": 38,
   "metadata": {},
   "outputs": [
    {
     "data": {
      "text/plain": [
       "'[CLS] this place is by far the best! [SEP] [PAD]'"
      ]
     },
     "execution_count": 38,
     "metadata": {},
     "output_type": "execute_result"
    }
   ],
   "source": [
    "tokenizer_encoder.decode(x0[1])"
   ]
  },
  {
   "cell_type": "code",
   "execution_count": 39,
   "metadata": {},
   "outputs": [
    {
     "data": {
      "text/plain": [
       "'<BOS> this place is by far the best!\\n<EOS><PAD>'"
      ]
     },
     "execution_count": 39,
     "metadata": {},
     "output_type": "execute_result"
    }
   ],
   "source": [
    "tokenizer_decoder.decode(x1[1])"
   ]
  },
  {
   "cell_type": "code",
   "execution_count": 40,
   "metadata": {},
   "outputs": [
    {
     "data": {
      "text/plain": [
       "'<BOS> this place is the best!\\n<EOS>!\\n<EOS>'"
      ]
     },
     "execution_count": 40,
     "metadata": {},
     "output_type": "execute_result"
    }
   ],
   "source": [
    "tokenizer_decoder.decode(out[1])"
   ]
  },
  {
   "cell_type": "code",
   "execution_count": null,
   "metadata": {},
   "outputs": [],
   "source": []
  }
 ],
 "metadata": {
  "kernelspec": {
   "display_name": "Python 3",
   "language": "python",
   "name": "python3"
  },
  "language_info": {
   "codemirror_mode": {
    "name": "ipython",
    "version": 3
   },
   "file_extension": ".py",
   "mimetype": "text/x-python",
   "name": "python",
   "nbconvert_exporter": "python",
   "pygments_lexer": "ipython3",
   "version": "3.10.12"
  }
 },
 "nbformat": 4,
 "nbformat_minor": 2
}
