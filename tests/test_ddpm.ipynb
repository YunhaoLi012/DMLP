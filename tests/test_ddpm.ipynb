{
 "cells": [
  {
   "cell_type": "code",
   "execution_count": 1,
   "metadata": {},
   "outputs": [
    {
     "name": "stderr",
     "output_type": "stream",
     "text": [
      "/home/AD/yul080/.local/lib/python3.10/site-packages/tqdm/auto.py:22: TqdmWarning: IProgress not found. Please update jupyter and ipywidgets. See https://ipywidgets.readthedocs.io/en/stable/user_install.html\n",
      "  from .autonotebook import tqdm as notebook_tqdm\n",
      "/home/AD/yul080/.local/lib/python3.10/site-packages/transformers/utils/generic.py:441: UserWarning: torch.utils._pytree._register_pytree_node is deprecated. Please use torch.utils._pytree.register_pytree_node instead.\n",
      "  _torch_pytree._register_pytree_node(\n",
      "/home/AD/yul080/.local/lib/python3.10/site-packages/transformers/utils/generic.py:309: UserWarning: torch.utils._pytree._register_pytree_node is deprecated. Please use torch.utils._pytree.register_pytree_node instead.\n",
      "  _torch_pytree._register_pytree_node(\n"
     ]
    }
   ],
   "source": [
    "from datasets import load_dataset,concatenate_datasets, Dataset,DatasetDict, load_from_disk\n",
    "from torch.utils.data import DataLoader\n",
    "from transformers import AutoTokenizer\n",
    "from torch.utils.data import DataLoader\n",
    "from torch.nn.utils.rnn import pad_sequence\n",
    "import torch\n",
    "\n",
    "from DMLP.models.my_transformers import MODEL_CLASS\n",
    "from DMLP.models.models import VAE, DDPM, MLPSkipNet, TransformerNet,VAE_DDPM\n",
    "from DMLP.train.reconstruction import *\n",
    "from DMLP.utils.ddpm_schedule import ddpm_schedule\n",
    "from DMLP.utils.random_init import weights_init_random\n",
    "from DMLP.train.train_function import train_vae_ddpm\n",
    "from DMLP.train import generation\n",
    "import numpy as np\n",
    "import torch.nn as nn\n",
    "\n"
   ]
  },
  {
   "cell_type": "code",
   "execution_count": 2,
   "metadata": {},
   "outputs": [],
   "source": [
    "class MyCollator(object):\n",
    "    def __init__(self, encoder_token, decoder_token):\n",
    "        self.encoder_token = encoder_token\n",
    "        self.decoder_token = decoder_token\n",
    "    def __call__(self, batch):\n",
    "        input_ids_bert = pad_sequence([torch.tensor(f['bert_token'], dtype=torch.long) for f in batch],\n",
    "                                  batch_first=True, padding_value=self.encoder_token)\n",
    "        input_ids_gpt = pad_sequence([torch.tensor(f['gpt2_token'], dtype=torch.long) for f in batch],\n",
    "                                    batch_first=True, padding_value=self.decoder_token)\n",
    "        try:\n",
    "            token_lengths = torch.tensor([[len(f['bert_token']), len(f['gpt2_token'])] for f in batch],\n",
    "                                        dtype=torch.long)\n",
    "        except:\n",
    "            token_lengths = torch.zeros((len(batch), 1091))\n",
    "            for i in range(len(batch)):\n",
    "                token_lengths[i, len(batch[i]['gpt2_token'])] = 1\n",
    "        return (input_ids_bert, input_ids_gpt, token_lengths)\n",
    "def condition_f(n):\n",
    "        return ('linear' in n or 'wte' in n or 'decoder.transformer.h.0' in n or 'encoder' in n)"
   ]
  },
  {
   "cell_type": "code",
   "execution_count": 4,
   "metadata": {},
   "outputs": [],
   "source": [
    "model_vae_path = \"/home/AD/yul080/DMLP_test_with_ddpm_bs8/checkpoint-full-2/training.bin\"\n",
    "ddpm_path = \"/home/AD/yul080/DMLP_test_with_ddpm_bs8/checkpoint-ddpm-2/training_ddpm.bin\"\n",
    "device = \"cuda:1\""
   ]
  },
  {
   "cell_type": "code",
   "execution_count": 5,
   "metadata": {},
   "outputs": [
    {
     "name": "stdout",
     "output_type": "stream",
     "text": [
      "initialize models\n"
     ]
    },
    {
     "name": "stderr",
     "output_type": "stream",
     "text": [
      "Some weights of BertForLatentConnectorAVG were not initialized from the model checkpoint at prajjwal1/bert-small and are newly initialized: ['bert.linear.weight']\n",
      "You should probably TRAIN this model on a down-stream task to be able to use it for predictions and inference.\n",
      "Some weights of GPT2ForLatentConnectorNew were not initialized from the model checkpoint at gpt2-xl and are newly initialized: ['h.48.mlp.c_fc.bias', 'h.48.ln_2.bias', 'h.48.attn.c_attn.weight', 'h.48.mlp.c_fc.weight', 'h.48.mlp.c_proj.weight', 'h.48.mlp.c_proj.bias', 'h.48.ln_1.bias', 'linear_emb.weight', 'h.48.ln_2.weight', 'linear.weight', 'h.48.ln_1.weight', 'h.48.attn.c_proj.weight', 'h.48.attn.c_attn.bias', 'h.48.attn.c_proj.bias', 'lm_head.bias']\n",
      "You should probably TRAIN this model on a down-stream task to be able to use it for predictions and inference.\n"
     ]
    },
    {
     "name": "stdout",
     "output_type": "stream",
     "text": [
      "download data\n"
     ]
    },
    {
     "data": {
      "text/plain": [
       "VAE_DDPM(\n",
       "  (model_vae): VAE(\n",
       "    (encoder): BertForLatentConnectorAVG(\n",
       "      (embeddings): BertEmbeddings(\n",
       "        (word_embeddings): Embedding(30522, 512, padding_idx=0)\n",
       "        (position_embeddings): Embedding(512, 512)\n",
       "        (token_type_embeddings): Embedding(2, 512)\n",
       "        (LayerNorm): LayerNorm((512,), eps=1e-12, elementwise_affine=True)\n",
       "        (dropout): Dropout(p=0.1, inplace=False)\n",
       "      )\n",
       "      (encoder): BertEncoder(\n",
       "        (layer): ModuleList(\n",
       "          (0-3): 4 x BertLayer(\n",
       "            (attention): BertAttention(\n",
       "              (self): BertSelfAttention(\n",
       "                (query): Linear(in_features=512, out_features=512, bias=True)\n",
       "                (key): Linear(in_features=512, out_features=512, bias=True)\n",
       "                (value): Linear(in_features=512, out_features=512, bias=True)\n",
       "                (dropout): Dropout(p=0.1, inplace=False)\n",
       "              )\n",
       "              (output): BertSelfOutput(\n",
       "                (dense): Linear(in_features=512, out_features=512, bias=True)\n",
       "                (LayerNorm): LayerNorm((512,), eps=1e-12, elementwise_affine=True)\n",
       "                (dropout): Dropout(p=0.1, inplace=False)\n",
       "              )\n",
       "            )\n",
       "            (intermediate): BertIntermediate(\n",
       "              (dense): Linear(in_features=512, out_features=2048, bias=True)\n",
       "              (intermediate_act_fn): GELUActivation()\n",
       "            )\n",
       "            (output): BertOutput(\n",
       "              (dense): Linear(in_features=2048, out_features=512, bias=True)\n",
       "              (LayerNorm): LayerNorm((512,), eps=1e-12, elementwise_affine=True)\n",
       "              (dropout): Dropout(p=0.1, inplace=False)\n",
       "            )\n",
       "          )\n",
       "        )\n",
       "      )\n",
       "      (pooler): BertPooler(\n",
       "        (dense): Linear(in_features=512, out_features=512, bias=True)\n",
       "        (activation): Tanh()\n",
       "      )\n",
       "      (linear): Linear(in_features=512, out_features=256, bias=False)\n",
       "    )\n",
       "    (decoder): GPT2ForLatentConnectorNew(\n",
       "      (transformer): GPT2ModelForVAENew(\n",
       "        (wte): Embedding(50260, 1600)\n",
       "        (wpe): Embedding(1024, 1600)\n",
       "        (drop): Dropout(p=0.1, inplace=False)\n",
       "        (h): ModuleList(\n",
       "          (0-48): 49 x GPT2Block(\n",
       "            (ln_1): LayerNorm((1600,), eps=1e-05, elementwise_affine=True)\n",
       "            (attn): GPT2Attention(\n",
       "              (c_attn): Conv1D()\n",
       "              (c_proj): Conv1D()\n",
       "              (attn_dropout): Dropout(p=0.1, inplace=False)\n",
       "              (resid_dropout): Dropout(p=0.1, inplace=False)\n",
       "            )\n",
       "            (ln_2): LayerNorm((1600,), eps=1e-05, elementwise_affine=True)\n",
       "            (mlp): GPT2MLP(\n",
       "              (c_fc): Conv1D()\n",
       "              (c_proj): Conv1D()\n",
       "              (act): NewGELUActivation()\n",
       "              (dropout): Dropout(p=0.1, inplace=False)\n",
       "            )\n",
       "          )\n",
       "        )\n",
       "        (ln_f): LayerNorm((1600,), eps=1e-05, elementwise_affine=True)\n",
       "        (linear): Linear(in_features=128, out_features=78400, bias=False)\n",
       "        (linear_emb): Linear(in_features=128, out_features=1600, bias=False)\n",
       "      )\n",
       "      (lm_head): Linear(in_features=1600, out_features=50260, bias=True)\n",
       "    )\n",
       "  )\n",
       "  (ddpm): DDPM(\n",
       "    (eps_model): MLPSkipNet(\n",
       "      (time_embed): Sequential(\n",
       "        (0): Linear(in_features=64, out_features=128, bias=True)\n",
       "        (1): SiLU()\n",
       "        (2): Linear(in_features=128, out_features=128, bias=True)\n",
       "      )\n",
       "      (layers): ModuleList(\n",
       "        (0): MLPLNAct(\n",
       "          (linear): Linear(in_features=128, out_features=2048, bias=True)\n",
       "          (act): SiLU()\n",
       "          (linear_emb): Linear(in_features=128, out_features=2048, bias=True)\n",
       "          (cond_layers): Sequential(\n",
       "            (0): SiLU()\n",
       "            (1): Linear(in_features=128, out_features=2048, bias=True)\n",
       "          )\n",
       "          (norm): LayerNorm((2048,), eps=1e-05, elementwise_affine=True)\n",
       "          (dropout): Identity()\n",
       "        )\n",
       "        (1-18): 18 x MLPLNAct(\n",
       "          (linear): Linear(in_features=2176, out_features=2048, bias=True)\n",
       "          (act): SiLU()\n",
       "          (linear_emb): Linear(in_features=128, out_features=2048, bias=True)\n",
       "          (cond_layers): Sequential(\n",
       "            (0): SiLU()\n",
       "            (1): Linear(in_features=128, out_features=2048, bias=True)\n",
       "          )\n",
       "          (norm): LayerNorm((2048,), eps=1e-05, elementwise_affine=True)\n",
       "          (dropout): Identity()\n",
       "        )\n",
       "        (19): MLPLNAct(\n",
       "          (linear): Linear(in_features=2176, out_features=128, bias=True)\n",
       "          (act): Identity()\n",
       "          (norm): Identity()\n",
       "          (dropout): Identity()\n",
       "        )\n",
       "      )\n",
       "      (last_act): Identity()\n",
       "    )\n",
       "    (criterion): MSELoss()\n",
       "  )\n",
       ")"
      ]
     },
     "execution_count": 5,
     "metadata": {},
     "output_type": "execute_result"
    }
   ],
   "source": [
    "batch_size = 128\n",
    "encoder_model_class = MODEL_CLASS['BertForLatentConnectorAVG']\n",
    "\n",
    "\n",
    "\n",
    "    #initialize tokenizer and model\n",
    "print(\"initialize models\")\n",
    "tokenizer_encoder = AutoTokenizer.from_pretrained(\"prajjwal1/bert-small\")\n",
    "latent_size = 128\n",
    "model_encoder = encoder_model_class.from_pretrained(\"prajjwal1/bert-small\", latent_size=latent_size,\n",
    "                                                        pad_id=tokenizer_encoder.pad_token_id,local_files_only=False)\n",
    "\n",
    "\n",
    "decoder_model_class = MODEL_CLASS['GPT2ForLatentConnectorNew']\n",
    "tokenizer_decoder = AutoTokenizer.from_pretrained(\"gpt2-xl\")\n",
    "model_decoder = decoder_model_class.from_pretrained(\"gpt2-xl\", latent_size=latent_size,\n",
    "                                                            latent_as_gpt_emb=True,\n",
    "                                                            latent_as_gpt_memory=True,local_files_only=False)\n",
    "decoder_n_layer = model_decoder.transformer.config.n_layer\n",
    "model_decoder.transformer.change_order()\n",
    "\n",
    "special_tokens_dict = {'pad_token': '<PAD>', 'bos_token': '<BOS>', 'eos_token': '<EOS>', }\n",
    "num_added_toks = tokenizer_decoder.add_special_tokens(special_tokens_dict)\n",
    "model_decoder.resize_token_embeddings(len(tokenizer_decoder))\n",
    "bert_pad_token = tokenizer_encoder.pad_token_id\n",
    "gpt2_pad_token = tokenizer_decoder.pad_token_id\n",
    "\n",
    "my_collator = MyCollator(bert_pad_token, gpt2_pad_token)\n",
    "    #download data\n",
    "print(\"download data\")\n",
    "train_eval_dataset =load_dataset(\"guangyil/yelp_short_v2\")\n",
    "eval_dataloader =  DataLoader(train_eval_dataset['test'], num_workers=0, collate_fn=my_collator,batch_size=batch_size)\n",
    "train_dataloader = DataLoader(train_eval_dataset['train'], num_workers=0, collate_fn=my_collator, batch_size=batch_size)\n",
    "\n",
    "output_dir = \"../../out_temp\"\n",
    "model_vae = VAE(model_encoder, model_decoder, tokenizer_encoder, tokenizer_decoder, latent_size, output_dir)\n",
    "checkpoint = torch.load(model_vae_path,map_location=torch.device(device))\n",
    "model_vae.load_state_dict(checkpoint['model_state_dict'], strict=False) \n",
    "\n",
    "ddpm = DDPM(MLPSkipNet(latent_size), (1e-4, 0.02), 2000, nn.MSELoss(reduction='none'), ddpm_schedule)\n",
    "checkpoint_ddpm = torch.load(ddpm_path,map_location=torch.device(device))\n",
    "ddpm.load_state_dict(checkpoint_ddpm['model_state_dict'], strict=False) \n",
    "ddpm.to(device)\n",
    "model = VAE_DDPM(model_vae, ddpm,10.0 )\n",
    "model.to(device)"
   ]
  },
  {
   "cell_type": "code",
   "execution_count": 6,
   "metadata": {},
   "outputs": [],
   "source": [
    "generate_txt = []\n",
    "bz=10\n",
    "context_tokens = tokenizer_decoder.encode(tokenizer_decoder.bos_token)\n",
    "\n",
    "latent_z = ddpm.sample(bz,(128,),device,fp16=False)\n"
   ]
  },
  {
   "cell_type": "code",
   "execution_count": 7,
   "metadata": {},
   "outputs": [],
   "source": [
    "out = sample_sequence_conditional(\n",
    "                model=model_vae.decoder,\n",
    "                context=context_tokens,\n",
    "                past=latent_z,\n",
    "                length=32,\n",
    "                num_samples=latent_z.size(0),\n",
    "                device=device,\n",
    "                decoder_tokenizer=tokenizer_decoder,\n",
    "                eos_id=tokenizer_decoder.eos_token_id,\n",
    "                loss=False\n",
    "            )"
   ]
  },
  {
   "cell_type": "code",
   "execution_count": 8,
   "metadata": {},
   "outputs": [],
   "source": [
    "generate_text = []\n",
    "for i in range(latent_z.size(0)):\n",
    "    text_x1 = tokenizer_decoder.decode(out[i, :].tolist(), clean_up_tokenization_spaces=False).split(tokenizer_decoder.eos_token)[\n",
    "        0].replace(tokenizer_decoder.bos_token, '').strip()\n",
    "    text_x1 = ' '.join(text_x1.split())\n",
    "    generate_text.append(text_x1 + '\\n')"
   ]
  },
  {
   "cell_type": "code",
   "execution_count": 9,
   "metadata": {},
   "outputs": [
    {
     "data": {
      "text/plain": [
       "tensor([[50258,   475,   262,  2057,   373,   299,   470,   326,  2089,   764,\n",
       "           198, 50259, 50259, 50259],\n",
       "        [50258,   262,  2057,   373,  4998,  5145,   198, 50259, 50259,   198,\n",
       "         50259, 50259, 50259, 50259],\n",
       "        [50258,  1049,  2057,   764,   198, 50259, 50259, 50259, 50259,   764,\n",
       "           198, 50259, 50259, 50259],\n",
       "        [50258,   262,  2057,   318, 12625,   764,   198, 50259,   198, 50259,\n",
       "           198, 50259, 50259, 50259],\n",
       "        [50258,  1049,  2139,   837,  1049,  4067,   837,   290,  1049,  4067,\n",
       "           764,   198, 50259, 50259],\n",
       "        [50258,  1049,  1295,   837,  1049,  2057,   837,  1049,  2139,   764,\n",
       "           198, 50259, 50259, 50259],\n",
       "        [50258,   845, 11378,  5145,   198, 50259,   198, 50259,   198, 50259,\n",
       "           198, 50259,   198, 50259],\n",
       "        [50258,   428,  3085,   318,  8030,   837, 29549,   837,   290,   845,\n",
       "         29549,  5145,   198, 50259],\n",
       "        [50258,   340,   318,   588,   257, 10905,  3240,   764,   198, 50259,\n",
       "         50259, 50259,  4004,   764],\n",
       "        [50258,   356,  1842,   262,  8137,  5145,   198, 50259, 50259, 50259,\n",
       "         50259,   198, 50259, 50259]], device='cuda:1')"
      ]
     },
     "execution_count": 9,
     "metadata": {},
     "output_type": "execute_result"
    }
   ],
   "source": [
    "out"
   ]
  },
  {
   "cell_type": "code",
   "execution_count": 17,
   "metadata": {},
   "outputs": [
    {
     "data": {
      "text/plain": [
       "'<BOS> it is like a ghost town.\\n<EOS><EOS><EOS> favorite.'"
      ]
     },
     "execution_count": 17,
     "metadata": {},
     "output_type": "execute_result"
    }
   ],
   "source": [
    "tokenizer_decoder.decode(out[8])"
   ]
  },
  {
   "cell_type": "code",
   "execution_count": null,
   "metadata": {},
   "outputs": [],
   "source": []
  }
 ],
 "metadata": {
  "kernelspec": {
   "display_name": ".venv",
   "language": "python",
   "name": "python3"
  },
  "language_info": {
   "codemirror_mode": {
    "name": "ipython",
    "version": 3
   },
   "file_extension": ".py",
   "mimetype": "text/x-python",
   "name": "python",
   "nbconvert_exporter": "python",
   "pygments_lexer": "ipython3",
   "version": "3.10.12"
  }
 },
 "nbformat": 4,
 "nbformat_minor": 2
}
